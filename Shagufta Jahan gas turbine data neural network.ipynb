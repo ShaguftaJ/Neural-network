{
 "cells": [
  {
   "cell_type": "markdown",
   "id": "21a16673",
   "metadata": {},
   "source": [
    "# predicting turbine energy yield (TEY) using ambient variables as features.\n"
   ]
  },
  {
   "cell_type": "code",
   "execution_count": 29,
   "id": "f0361f45",
   "metadata": {},
   "outputs": [],
   "source": [
    "# Importig Libraries\n",
    "import pandas as pd\n",
    "import numpy as np\n",
    "from sklearn.feature_extraction.text import CountVectorizer, TfidfVectorizer\n",
    "from sklearn.preprocessing import StandardScaler\n",
    "from sklearn.model_selection import GridSearchCV\n",
    "from sklearn.metrics import classification_report\n",
    "from sklearn.metrics import accuracy_score, confusion_matrix\n",
    "from sklearn.model_selection import train_test_split, cross_val_score"
   ]
  },
  {
   "cell_type": "code",
   "execution_count": 30,
   "id": "fa2061a6",
   "metadata": {},
   "outputs": [],
   "source": [
    "import seaborn as sns\n",
    "import matplotlib.pyplot as plt"
   ]
  },
  {
   "cell_type": "code",
   "execution_count": 31,
   "id": "3e83c329",
   "metadata": {},
   "outputs": [],
   "source": [
    "#load data\n",
    "data= pd.read_csv(\"gas_turbines.csv\")"
   ]
  },
  {
   "cell_type": "code",
   "execution_count": 32,
   "id": "bdeaf21d",
   "metadata": {},
   "outputs": [
    {
     "data": {
      "text/html": [
       "<div>\n",
       "<style scoped>\n",
       "    .dataframe tbody tr th:only-of-type {\n",
       "        vertical-align: middle;\n",
       "    }\n",
       "\n",
       "    .dataframe tbody tr th {\n",
       "        vertical-align: top;\n",
       "    }\n",
       "\n",
       "    .dataframe thead th {\n",
       "        text-align: right;\n",
       "    }\n",
       "</style>\n",
       "<table border=\"1\" class=\"dataframe\">\n",
       "  <thead>\n",
       "    <tr style=\"text-align: right;\">\n",
       "      <th></th>\n",
       "      <th>AT</th>\n",
       "      <th>AP</th>\n",
       "      <th>AH</th>\n",
       "      <th>AFDP</th>\n",
       "      <th>GTEP</th>\n",
       "      <th>TIT</th>\n",
       "      <th>TAT</th>\n",
       "      <th>TEY</th>\n",
       "      <th>CDP</th>\n",
       "      <th>CO</th>\n",
       "      <th>NOX</th>\n",
       "    </tr>\n",
       "  </thead>\n",
       "  <tbody>\n",
       "    <tr>\n",
       "      <th>0</th>\n",
       "      <td>6.8594</td>\n",
       "      <td>1007.9</td>\n",
       "      <td>96.799</td>\n",
       "      <td>3.5000</td>\n",
       "      <td>19.663</td>\n",
       "      <td>1059.2</td>\n",
       "      <td>550.00</td>\n",
       "      <td>114.70</td>\n",
       "      <td>10.605</td>\n",
       "      <td>3.1547</td>\n",
       "      <td>82.722</td>\n",
       "    </tr>\n",
       "    <tr>\n",
       "      <th>1</th>\n",
       "      <td>6.7850</td>\n",
       "      <td>1008.4</td>\n",
       "      <td>97.118</td>\n",
       "      <td>3.4998</td>\n",
       "      <td>19.728</td>\n",
       "      <td>1059.3</td>\n",
       "      <td>550.00</td>\n",
       "      <td>114.72</td>\n",
       "      <td>10.598</td>\n",
       "      <td>3.2363</td>\n",
       "      <td>82.776</td>\n",
       "    </tr>\n",
       "    <tr>\n",
       "      <th>2</th>\n",
       "      <td>6.8977</td>\n",
       "      <td>1008.8</td>\n",
       "      <td>95.939</td>\n",
       "      <td>3.4824</td>\n",
       "      <td>19.779</td>\n",
       "      <td>1059.4</td>\n",
       "      <td>549.87</td>\n",
       "      <td>114.71</td>\n",
       "      <td>10.601</td>\n",
       "      <td>3.2012</td>\n",
       "      <td>82.468</td>\n",
       "    </tr>\n",
       "    <tr>\n",
       "      <th>3</th>\n",
       "      <td>7.0569</td>\n",
       "      <td>1009.2</td>\n",
       "      <td>95.249</td>\n",
       "      <td>3.4805</td>\n",
       "      <td>19.792</td>\n",
       "      <td>1059.6</td>\n",
       "      <td>549.99</td>\n",
       "      <td>114.72</td>\n",
       "      <td>10.606</td>\n",
       "      <td>3.1923</td>\n",
       "      <td>82.670</td>\n",
       "    </tr>\n",
       "    <tr>\n",
       "      <th>4</th>\n",
       "      <td>7.3978</td>\n",
       "      <td>1009.7</td>\n",
       "      <td>95.150</td>\n",
       "      <td>3.4976</td>\n",
       "      <td>19.765</td>\n",
       "      <td>1059.7</td>\n",
       "      <td>549.98</td>\n",
       "      <td>114.72</td>\n",
       "      <td>10.612</td>\n",
       "      <td>3.2484</td>\n",
       "      <td>82.311</td>\n",
       "    </tr>\n",
       "    <tr>\n",
       "      <th>...</th>\n",
       "      <td>...</td>\n",
       "      <td>...</td>\n",
       "      <td>...</td>\n",
       "      <td>...</td>\n",
       "      <td>...</td>\n",
       "      <td>...</td>\n",
       "      <td>...</td>\n",
       "      <td>...</td>\n",
       "      <td>...</td>\n",
       "      <td>...</td>\n",
       "      <td>...</td>\n",
       "    </tr>\n",
       "    <tr>\n",
       "      <th>15034</th>\n",
       "      <td>9.0301</td>\n",
       "      <td>1005.6</td>\n",
       "      <td>98.460</td>\n",
       "      <td>3.5421</td>\n",
       "      <td>19.164</td>\n",
       "      <td>1049.7</td>\n",
       "      <td>546.21</td>\n",
       "      <td>111.61</td>\n",
       "      <td>10.400</td>\n",
       "      <td>4.5186</td>\n",
       "      <td>79.559</td>\n",
       "    </tr>\n",
       "    <tr>\n",
       "      <th>15035</th>\n",
       "      <td>7.8879</td>\n",
       "      <td>1005.9</td>\n",
       "      <td>99.093</td>\n",
       "      <td>3.5059</td>\n",
       "      <td>19.414</td>\n",
       "      <td>1046.3</td>\n",
       "      <td>543.22</td>\n",
       "      <td>111.78</td>\n",
       "      <td>10.433</td>\n",
       "      <td>4.8470</td>\n",
       "      <td>79.917</td>\n",
       "    </tr>\n",
       "    <tr>\n",
       "      <th>15036</th>\n",
       "      <td>7.2647</td>\n",
       "      <td>1006.3</td>\n",
       "      <td>99.496</td>\n",
       "      <td>3.4770</td>\n",
       "      <td>19.530</td>\n",
       "      <td>1037.7</td>\n",
       "      <td>537.32</td>\n",
       "      <td>110.19</td>\n",
       "      <td>10.483</td>\n",
       "      <td>7.9632</td>\n",
       "      <td>90.912</td>\n",
       "    </tr>\n",
       "    <tr>\n",
       "      <th>15037</th>\n",
       "      <td>7.0060</td>\n",
       "      <td>1006.8</td>\n",
       "      <td>99.008</td>\n",
       "      <td>3.4486</td>\n",
       "      <td>19.377</td>\n",
       "      <td>1043.2</td>\n",
       "      <td>541.24</td>\n",
       "      <td>110.74</td>\n",
       "      <td>10.533</td>\n",
       "      <td>6.2494</td>\n",
       "      <td>93.227</td>\n",
       "    </tr>\n",
       "    <tr>\n",
       "      <th>15038</th>\n",
       "      <td>6.9279</td>\n",
       "      <td>1007.2</td>\n",
       "      <td>97.533</td>\n",
       "      <td>3.4275</td>\n",
       "      <td>19.306</td>\n",
       "      <td>1049.9</td>\n",
       "      <td>545.85</td>\n",
       "      <td>111.58</td>\n",
       "      <td>10.583</td>\n",
       "      <td>4.9816</td>\n",
       "      <td>92.498</td>\n",
       "    </tr>\n",
       "  </tbody>\n",
       "</table>\n",
       "<p>15039 rows × 11 columns</p>\n",
       "</div>"
      ],
      "text/plain": [
       "           AT      AP      AH    AFDP    GTEP     TIT     TAT     TEY     CDP  \\\n",
       "0      6.8594  1007.9  96.799  3.5000  19.663  1059.2  550.00  114.70  10.605   \n",
       "1      6.7850  1008.4  97.118  3.4998  19.728  1059.3  550.00  114.72  10.598   \n",
       "2      6.8977  1008.8  95.939  3.4824  19.779  1059.4  549.87  114.71  10.601   \n",
       "3      7.0569  1009.2  95.249  3.4805  19.792  1059.6  549.99  114.72  10.606   \n",
       "4      7.3978  1009.7  95.150  3.4976  19.765  1059.7  549.98  114.72  10.612   \n",
       "...       ...     ...     ...     ...     ...     ...     ...     ...     ...   \n",
       "15034  9.0301  1005.6  98.460  3.5421  19.164  1049.7  546.21  111.61  10.400   \n",
       "15035  7.8879  1005.9  99.093  3.5059  19.414  1046.3  543.22  111.78  10.433   \n",
       "15036  7.2647  1006.3  99.496  3.4770  19.530  1037.7  537.32  110.19  10.483   \n",
       "15037  7.0060  1006.8  99.008  3.4486  19.377  1043.2  541.24  110.74  10.533   \n",
       "15038  6.9279  1007.2  97.533  3.4275  19.306  1049.9  545.85  111.58  10.583   \n",
       "\n",
       "           CO     NOX  \n",
       "0      3.1547  82.722  \n",
       "1      3.2363  82.776  \n",
       "2      3.2012  82.468  \n",
       "3      3.1923  82.670  \n",
       "4      3.2484  82.311  \n",
       "...       ...     ...  \n",
       "15034  4.5186  79.559  \n",
       "15035  4.8470  79.917  \n",
       "15036  7.9632  90.912  \n",
       "15037  6.2494  93.227  \n",
       "15038  4.9816  92.498  \n",
       "\n",
       "[15039 rows x 11 columns]"
      ]
     },
     "execution_count": 32,
     "metadata": {},
     "output_type": "execute_result"
    }
   ],
   "source": [
    "data"
   ]
  },
  {
   "cell_type": "markdown",
   "id": "b66faf28",
   "metadata": {},
   "source": [
    "# EDA & Data preprocessing\n"
   ]
  },
  {
   "cell_type": "code",
   "execution_count": 33,
   "id": "6075de3d",
   "metadata": {},
   "outputs": [
    {
     "data": {
      "text/plain": [
       "(15039, 11)"
      ]
     },
     "execution_count": 33,
     "metadata": {},
     "output_type": "execute_result"
    }
   ],
   "source": [
    "data.shape\n"
   ]
  },
  {
   "cell_type": "code",
   "execution_count": 34,
   "id": "e77812a3",
   "metadata": {},
   "outputs": [
    {
     "data": {
      "text/html": [
       "<div>\n",
       "<style scoped>\n",
       "    .dataframe tbody tr th:only-of-type {\n",
       "        vertical-align: middle;\n",
       "    }\n",
       "\n",
       "    .dataframe tbody tr th {\n",
       "        vertical-align: top;\n",
       "    }\n",
       "\n",
       "    .dataframe thead th {\n",
       "        text-align: right;\n",
       "    }\n",
       "</style>\n",
       "<table border=\"1\" class=\"dataframe\">\n",
       "  <thead>\n",
       "    <tr style=\"text-align: right;\">\n",
       "      <th></th>\n",
       "      <th>AT</th>\n",
       "      <th>AP</th>\n",
       "      <th>AH</th>\n",
       "      <th>AFDP</th>\n",
       "      <th>GTEP</th>\n",
       "      <th>TIT</th>\n",
       "      <th>TAT</th>\n",
       "      <th>TEY</th>\n",
       "      <th>CDP</th>\n",
       "      <th>CO</th>\n",
       "      <th>NOX</th>\n",
       "    </tr>\n",
       "  </thead>\n",
       "  <tbody>\n",
       "    <tr>\n",
       "      <th>0</th>\n",
       "      <td>6.8594</td>\n",
       "      <td>1007.9</td>\n",
       "      <td>96.799</td>\n",
       "      <td>3.5000</td>\n",
       "      <td>19.663</td>\n",
       "      <td>1059.2</td>\n",
       "      <td>550.00</td>\n",
       "      <td>114.70</td>\n",
       "      <td>10.605</td>\n",
       "      <td>3.1547</td>\n",
       "      <td>82.722</td>\n",
       "    </tr>\n",
       "    <tr>\n",
       "      <th>1</th>\n",
       "      <td>6.7850</td>\n",
       "      <td>1008.4</td>\n",
       "      <td>97.118</td>\n",
       "      <td>3.4998</td>\n",
       "      <td>19.728</td>\n",
       "      <td>1059.3</td>\n",
       "      <td>550.00</td>\n",
       "      <td>114.72</td>\n",
       "      <td>10.598</td>\n",
       "      <td>3.2363</td>\n",
       "      <td>82.776</td>\n",
       "    </tr>\n",
       "    <tr>\n",
       "      <th>2</th>\n",
       "      <td>6.8977</td>\n",
       "      <td>1008.8</td>\n",
       "      <td>95.939</td>\n",
       "      <td>3.4824</td>\n",
       "      <td>19.779</td>\n",
       "      <td>1059.4</td>\n",
       "      <td>549.87</td>\n",
       "      <td>114.71</td>\n",
       "      <td>10.601</td>\n",
       "      <td>3.2012</td>\n",
       "      <td>82.468</td>\n",
       "    </tr>\n",
       "    <tr>\n",
       "      <th>3</th>\n",
       "      <td>7.0569</td>\n",
       "      <td>1009.2</td>\n",
       "      <td>95.249</td>\n",
       "      <td>3.4805</td>\n",
       "      <td>19.792</td>\n",
       "      <td>1059.6</td>\n",
       "      <td>549.99</td>\n",
       "      <td>114.72</td>\n",
       "      <td>10.606</td>\n",
       "      <td>3.1923</td>\n",
       "      <td>82.670</td>\n",
       "    </tr>\n",
       "    <tr>\n",
       "      <th>4</th>\n",
       "      <td>7.3978</td>\n",
       "      <td>1009.7</td>\n",
       "      <td>95.150</td>\n",
       "      <td>3.4976</td>\n",
       "      <td>19.765</td>\n",
       "      <td>1059.7</td>\n",
       "      <td>549.98</td>\n",
       "      <td>114.72</td>\n",
       "      <td>10.612</td>\n",
       "      <td>3.2484</td>\n",
       "      <td>82.311</td>\n",
       "    </tr>\n",
       "  </tbody>\n",
       "</table>\n",
       "</div>"
      ],
      "text/plain": [
       "       AT      AP      AH    AFDP    GTEP     TIT     TAT     TEY     CDP  \\\n",
       "0  6.8594  1007.9  96.799  3.5000  19.663  1059.2  550.00  114.70  10.605   \n",
       "1  6.7850  1008.4  97.118  3.4998  19.728  1059.3  550.00  114.72  10.598   \n",
       "2  6.8977  1008.8  95.939  3.4824  19.779  1059.4  549.87  114.71  10.601   \n",
       "3  7.0569  1009.2  95.249  3.4805  19.792  1059.6  549.99  114.72  10.606   \n",
       "4  7.3978  1009.7  95.150  3.4976  19.765  1059.7  549.98  114.72  10.612   \n",
       "\n",
       "       CO     NOX  \n",
       "0  3.1547  82.722  \n",
       "1  3.2363  82.776  \n",
       "2  3.2012  82.468  \n",
       "3  3.1923  82.670  \n",
       "4  3.2484  82.311  "
      ]
     },
     "execution_count": 34,
     "metadata": {},
     "output_type": "execute_result"
    }
   ],
   "source": [
    "data.head()"
   ]
  },
  {
   "cell_type": "code",
   "execution_count": 35,
   "id": "1cb94828",
   "metadata": {},
   "outputs": [
    {
     "data": {
      "text/html": [
       "<div>\n",
       "<style scoped>\n",
       "    .dataframe tbody tr th:only-of-type {\n",
       "        vertical-align: middle;\n",
       "    }\n",
       "\n",
       "    .dataframe tbody tr th {\n",
       "        vertical-align: top;\n",
       "    }\n",
       "\n",
       "    .dataframe thead th {\n",
       "        text-align: right;\n",
       "    }\n",
       "</style>\n",
       "<table border=\"1\" class=\"dataframe\">\n",
       "  <thead>\n",
       "    <tr style=\"text-align: right;\">\n",
       "      <th></th>\n",
       "      <th>TEY</th>\n",
       "      <th>AT</th>\n",
       "      <th>AP</th>\n",
       "      <th>AH</th>\n",
       "      <th>AFDP</th>\n",
       "      <th>GTEP</th>\n",
       "      <th>TIT</th>\n",
       "      <th>TAT</th>\n",
       "      <th>CDP</th>\n",
       "      <th>CO</th>\n",
       "      <th>NOX</th>\n",
       "    </tr>\n",
       "  </thead>\n",
       "  <tbody>\n",
       "    <tr>\n",
       "      <th>0</th>\n",
       "      <td>114.70</td>\n",
       "      <td>6.8594</td>\n",
       "      <td>1007.9</td>\n",
       "      <td>96.799</td>\n",
       "      <td>3.5000</td>\n",
       "      <td>19.663</td>\n",
       "      <td>1059.2</td>\n",
       "      <td>550.00</td>\n",
       "      <td>10.605</td>\n",
       "      <td>3.1547</td>\n",
       "      <td>82.722</td>\n",
       "    </tr>\n",
       "    <tr>\n",
       "      <th>1</th>\n",
       "      <td>114.72</td>\n",
       "      <td>6.7850</td>\n",
       "      <td>1008.4</td>\n",
       "      <td>97.118</td>\n",
       "      <td>3.4998</td>\n",
       "      <td>19.728</td>\n",
       "      <td>1059.3</td>\n",
       "      <td>550.00</td>\n",
       "      <td>10.598</td>\n",
       "      <td>3.2363</td>\n",
       "      <td>82.776</td>\n",
       "    </tr>\n",
       "    <tr>\n",
       "      <th>2</th>\n",
       "      <td>114.71</td>\n",
       "      <td>6.8977</td>\n",
       "      <td>1008.8</td>\n",
       "      <td>95.939</td>\n",
       "      <td>3.4824</td>\n",
       "      <td>19.779</td>\n",
       "      <td>1059.4</td>\n",
       "      <td>549.87</td>\n",
       "      <td>10.601</td>\n",
       "      <td>3.2012</td>\n",
       "      <td>82.468</td>\n",
       "    </tr>\n",
       "    <tr>\n",
       "      <th>3</th>\n",
       "      <td>114.72</td>\n",
       "      <td>7.0569</td>\n",
       "      <td>1009.2</td>\n",
       "      <td>95.249</td>\n",
       "      <td>3.4805</td>\n",
       "      <td>19.792</td>\n",
       "      <td>1059.6</td>\n",
       "      <td>549.99</td>\n",
       "      <td>10.606</td>\n",
       "      <td>3.1923</td>\n",
       "      <td>82.670</td>\n",
       "    </tr>\n",
       "    <tr>\n",
       "      <th>4</th>\n",
       "      <td>114.72</td>\n",
       "      <td>7.3978</td>\n",
       "      <td>1009.7</td>\n",
       "      <td>95.150</td>\n",
       "      <td>3.4976</td>\n",
       "      <td>19.765</td>\n",
       "      <td>1059.7</td>\n",
       "      <td>549.98</td>\n",
       "      <td>10.612</td>\n",
       "      <td>3.2484</td>\n",
       "      <td>82.311</td>\n",
       "    </tr>\n",
       "  </tbody>\n",
       "</table>\n",
       "</div>"
      ],
      "text/plain": [
       "      TEY      AT      AP      AH    AFDP    GTEP     TIT     TAT     CDP  \\\n",
       "0  114.70  6.8594  1007.9  96.799  3.5000  19.663  1059.2  550.00  10.605   \n",
       "1  114.72  6.7850  1008.4  97.118  3.4998  19.728  1059.3  550.00  10.598   \n",
       "2  114.71  6.8977  1008.8  95.939  3.4824  19.779  1059.4  549.87  10.601   \n",
       "3  114.72  7.0569  1009.2  95.249  3.4805  19.792  1059.6  549.99  10.606   \n",
       "4  114.72  7.3978  1009.7  95.150  3.4976  19.765  1059.7  549.98  10.612   \n",
       "\n",
       "       CO     NOX  \n",
       "0  3.1547  82.722  \n",
       "1  3.2363  82.776  \n",
       "2  3.2012  82.468  \n",
       "3  3.1923  82.670  \n",
       "4  3.2484  82.311  "
      ]
     },
     "execution_count": 35,
     "metadata": {},
     "output_type": "execute_result"
    }
   ],
   "source": [
    "# Changing position of target column 'TEY'\n",
    "Target = data['TEY']\n",
    "#Drop the existing column\n",
    "data.drop(labels=['TEY'], axis=1,inplace = True)\n",
    "data.insert(0, 'Y', Target)\n",
    "\n",
    "data = data.rename({'Y':'TEY'}, axis = 1)\n",
    "\n",
    "data.head()"
   ]
  },
  {
   "cell_type": "code",
   "execution_count": 36,
   "id": "6a480d8b",
   "metadata": {},
   "outputs": [
    {
     "name": "stdout",
     "output_type": "stream",
     "text": [
      "<class 'pandas.core.frame.DataFrame'>\n",
      "RangeIndex: 15039 entries, 0 to 15038\n",
      "Data columns (total 11 columns):\n",
      " #   Column  Non-Null Count  Dtype  \n",
      "---  ------  --------------  -----  \n",
      " 0   TEY     15039 non-null  float64\n",
      " 1   AT      15039 non-null  float64\n",
      " 2   AP      15039 non-null  float64\n",
      " 3   AH      15039 non-null  float64\n",
      " 4   AFDP    15039 non-null  float64\n",
      " 5   GTEP    15039 non-null  float64\n",
      " 6   TIT     15039 non-null  float64\n",
      " 7   TAT     15039 non-null  float64\n",
      " 8   CDP     15039 non-null  float64\n",
      " 9   CO      15039 non-null  float64\n",
      " 10  NOX     15039 non-null  float64\n",
      "dtypes: float64(11)\n",
      "memory usage: 1.3 MB\n"
     ]
    }
   ],
   "source": [
    "#no nul values, clean data\n",
    "data.info()"
   ]
  },
  {
   "cell_type": "code",
   "execution_count": 37,
   "id": "8333a1b6",
   "metadata": {},
   "outputs": [
    {
     "data": {
      "text/html": [
       "<div>\n",
       "<style scoped>\n",
       "    .dataframe tbody tr th:only-of-type {\n",
       "        vertical-align: middle;\n",
       "    }\n",
       "\n",
       "    .dataframe tbody tr th {\n",
       "        vertical-align: top;\n",
       "    }\n",
       "\n",
       "    .dataframe thead th {\n",
       "        text-align: right;\n",
       "    }\n",
       "</style>\n",
       "<table border=\"1\" class=\"dataframe\">\n",
       "  <thead>\n",
       "    <tr style=\"text-align: right;\">\n",
       "      <th></th>\n",
       "      <th>TEY</th>\n",
       "      <th>AT</th>\n",
       "      <th>AP</th>\n",
       "      <th>AH</th>\n",
       "      <th>AFDP</th>\n",
       "      <th>GTEP</th>\n",
       "      <th>TIT</th>\n",
       "      <th>TAT</th>\n",
       "      <th>CDP</th>\n",
       "      <th>CO</th>\n",
       "      <th>NOX</th>\n",
       "    </tr>\n",
       "  </thead>\n",
       "  <tbody>\n",
       "    <tr>\n",
       "      <th>count</th>\n",
       "      <td>15039.000000</td>\n",
       "      <td>15039.000000</td>\n",
       "      <td>15039.00000</td>\n",
       "      <td>15039.000000</td>\n",
       "      <td>15039.000000</td>\n",
       "      <td>15039.000000</td>\n",
       "      <td>15039.000000</td>\n",
       "      <td>15039.000000</td>\n",
       "      <td>15039.000000</td>\n",
       "      <td>15039.000000</td>\n",
       "      <td>15039.000000</td>\n",
       "    </tr>\n",
       "    <tr>\n",
       "      <th>mean</th>\n",
       "      <td>134.188464</td>\n",
       "      <td>17.764381</td>\n",
       "      <td>1013.19924</td>\n",
       "      <td>79.124174</td>\n",
       "      <td>4.200294</td>\n",
       "      <td>25.419061</td>\n",
       "      <td>1083.798770</td>\n",
       "      <td>545.396183</td>\n",
       "      <td>12.102353</td>\n",
       "      <td>1.972499</td>\n",
       "      <td>68.190934</td>\n",
       "    </tr>\n",
       "    <tr>\n",
       "      <th>std</th>\n",
       "      <td>15.829717</td>\n",
       "      <td>7.574323</td>\n",
       "      <td>6.41076</td>\n",
       "      <td>13.793439</td>\n",
       "      <td>0.760197</td>\n",
       "      <td>4.173916</td>\n",
       "      <td>16.527806</td>\n",
       "      <td>7.866803</td>\n",
       "      <td>1.103196</td>\n",
       "      <td>2.222206</td>\n",
       "      <td>10.470586</td>\n",
       "    </tr>\n",
       "    <tr>\n",
       "      <th>min</th>\n",
       "      <td>100.170000</td>\n",
       "      <td>0.522300</td>\n",
       "      <td>985.85000</td>\n",
       "      <td>30.344000</td>\n",
       "      <td>2.087400</td>\n",
       "      <td>17.878000</td>\n",
       "      <td>1000.800000</td>\n",
       "      <td>512.450000</td>\n",
       "      <td>9.904400</td>\n",
       "      <td>0.000388</td>\n",
       "      <td>27.765000</td>\n",
       "    </tr>\n",
       "    <tr>\n",
       "      <th>25%</th>\n",
       "      <td>127.985000</td>\n",
       "      <td>11.408000</td>\n",
       "      <td>1008.90000</td>\n",
       "      <td>69.750000</td>\n",
       "      <td>3.723900</td>\n",
       "      <td>23.294000</td>\n",
       "      <td>1079.600000</td>\n",
       "      <td>542.170000</td>\n",
       "      <td>11.622000</td>\n",
       "      <td>0.858055</td>\n",
       "      <td>61.303500</td>\n",
       "    </tr>\n",
       "    <tr>\n",
       "      <th>50%</th>\n",
       "      <td>133.780000</td>\n",
       "      <td>18.186000</td>\n",
       "      <td>1012.80000</td>\n",
       "      <td>82.266000</td>\n",
       "      <td>4.186200</td>\n",
       "      <td>25.082000</td>\n",
       "      <td>1088.700000</td>\n",
       "      <td>549.890000</td>\n",
       "      <td>12.025000</td>\n",
       "      <td>1.390200</td>\n",
       "      <td>66.601000</td>\n",
       "    </tr>\n",
       "    <tr>\n",
       "      <th>75%</th>\n",
       "      <td>140.895000</td>\n",
       "      <td>23.862500</td>\n",
       "      <td>1016.90000</td>\n",
       "      <td>90.043500</td>\n",
       "      <td>4.550900</td>\n",
       "      <td>27.184000</td>\n",
       "      <td>1096.000000</td>\n",
       "      <td>550.060000</td>\n",
       "      <td>12.578000</td>\n",
       "      <td>2.160400</td>\n",
       "      <td>73.935500</td>\n",
       "    </tr>\n",
       "    <tr>\n",
       "      <th>max</th>\n",
       "      <td>174.610000</td>\n",
       "      <td>34.929000</td>\n",
       "      <td>1034.20000</td>\n",
       "      <td>100.200000</td>\n",
       "      <td>7.610600</td>\n",
       "      <td>37.402000</td>\n",
       "      <td>1100.800000</td>\n",
       "      <td>550.610000</td>\n",
       "      <td>15.081000</td>\n",
       "      <td>44.103000</td>\n",
       "      <td>119.890000</td>\n",
       "    </tr>\n",
       "  </tbody>\n",
       "</table>\n",
       "</div>"
      ],
      "text/plain": [
       "                TEY            AT           AP            AH          AFDP  \\\n",
       "count  15039.000000  15039.000000  15039.00000  15039.000000  15039.000000   \n",
       "mean     134.188464     17.764381   1013.19924     79.124174      4.200294   \n",
       "std       15.829717      7.574323      6.41076     13.793439      0.760197   \n",
       "min      100.170000      0.522300    985.85000     30.344000      2.087400   \n",
       "25%      127.985000     11.408000   1008.90000     69.750000      3.723900   \n",
       "50%      133.780000     18.186000   1012.80000     82.266000      4.186200   \n",
       "75%      140.895000     23.862500   1016.90000     90.043500      4.550900   \n",
       "max      174.610000     34.929000   1034.20000    100.200000      7.610600   \n",
       "\n",
       "               GTEP           TIT           TAT           CDP            CO  \\\n",
       "count  15039.000000  15039.000000  15039.000000  15039.000000  15039.000000   \n",
       "mean      25.419061   1083.798770    545.396183     12.102353      1.972499   \n",
       "std        4.173916     16.527806      7.866803      1.103196      2.222206   \n",
       "min       17.878000   1000.800000    512.450000      9.904400      0.000388   \n",
       "25%       23.294000   1079.600000    542.170000     11.622000      0.858055   \n",
       "50%       25.082000   1088.700000    549.890000     12.025000      1.390200   \n",
       "75%       27.184000   1096.000000    550.060000     12.578000      2.160400   \n",
       "max       37.402000   1100.800000    550.610000     15.081000     44.103000   \n",
       "\n",
       "                NOX  \n",
       "count  15039.000000  \n",
       "mean      68.190934  \n",
       "std       10.470586  \n",
       "min       27.765000  \n",
       "25%       61.303500  \n",
       "50%       66.601000  \n",
       "75%       73.935500  \n",
       "max      119.890000  "
      ]
     },
     "execution_count": 37,
     "metadata": {},
     "output_type": "execute_result"
    }
   ],
   "source": [
    "data.describe()"
   ]
  },
  {
   "cell_type": "code",
   "execution_count": 38,
   "id": "a0e6ecac",
   "metadata": {},
   "outputs": [
    {
     "data": {
      "text/plain": [
       "TEY     0\n",
       "AT      0\n",
       "AP      0\n",
       "AH      0\n",
       "AFDP    0\n",
       "GTEP    0\n",
       "TIT     0\n",
       "TAT     0\n",
       "CDP     0\n",
       "CO      0\n",
       "NOX     0\n",
       "dtype: int64"
      ]
     },
     "execution_count": 38,
     "metadata": {},
     "output_type": "execute_result"
    }
   ],
   "source": [
    "data.isna().sum()"
   ]
  },
  {
   "cell_type": "code",
   "execution_count": 39,
   "id": "b8ae13ea",
   "metadata": {},
   "outputs": [
    {
     "data": {
      "text/html": [
       "<div>\n",
       "<style scoped>\n",
       "    .dataframe tbody tr th:only-of-type {\n",
       "        vertical-align: middle;\n",
       "    }\n",
       "\n",
       "    .dataframe tbody tr th {\n",
       "        vertical-align: top;\n",
       "    }\n",
       "\n",
       "    .dataframe thead th {\n",
       "        text-align: right;\n",
       "    }\n",
       "</style>\n",
       "<table border=\"1\" class=\"dataframe\">\n",
       "  <thead>\n",
       "    <tr style=\"text-align: right;\">\n",
       "      <th></th>\n",
       "      <th>TEY</th>\n",
       "      <th>AT</th>\n",
       "      <th>AP</th>\n",
       "      <th>AH</th>\n",
       "      <th>AFDP</th>\n",
       "      <th>GTEP</th>\n",
       "      <th>TIT</th>\n",
       "      <th>TAT</th>\n",
       "      <th>CDP</th>\n",
       "      <th>CO</th>\n",
       "      <th>NOX</th>\n",
       "    </tr>\n",
       "  </thead>\n",
       "  <tbody>\n",
       "    <tr>\n",
       "      <th>TEY</th>\n",
       "      <td>1.000000</td>\n",
       "      <td>-0.207495</td>\n",
       "      <td>0.146939</td>\n",
       "      <td>-0.110272</td>\n",
       "      <td>0.717995</td>\n",
       "      <td>0.977042</td>\n",
       "      <td>0.891587</td>\n",
       "      <td>-0.720356</td>\n",
       "      <td>0.988473</td>\n",
       "      <td>-0.541751</td>\n",
       "      <td>-0.102631</td>\n",
       "    </tr>\n",
       "    <tr>\n",
       "      <th>AT</th>\n",
       "      <td>-0.207495</td>\n",
       "      <td>1.000000</td>\n",
       "      <td>-0.412953</td>\n",
       "      <td>-0.549432</td>\n",
       "      <td>-0.099333</td>\n",
       "      <td>-0.049103</td>\n",
       "      <td>0.093067</td>\n",
       "      <td>0.338569</td>\n",
       "      <td>-0.100705</td>\n",
       "      <td>-0.088588</td>\n",
       "      <td>-0.600006</td>\n",
       "    </tr>\n",
       "    <tr>\n",
       "      <th>AP</th>\n",
       "      <td>0.146939</td>\n",
       "      <td>-0.412953</td>\n",
       "      <td>1.000000</td>\n",
       "      <td>0.042573</td>\n",
       "      <td>0.040318</td>\n",
       "      <td>0.078575</td>\n",
       "      <td>0.029650</td>\n",
       "      <td>-0.223479</td>\n",
       "      <td>0.131198</td>\n",
       "      <td>0.041614</td>\n",
       "      <td>0.256744</td>\n",
       "    </tr>\n",
       "    <tr>\n",
       "      <th>AH</th>\n",
       "      <td>-0.110272</td>\n",
       "      <td>-0.549432</td>\n",
       "      <td>0.042573</td>\n",
       "      <td>1.000000</td>\n",
       "      <td>-0.119249</td>\n",
       "      <td>-0.202784</td>\n",
       "      <td>-0.247781</td>\n",
       "      <td>0.010859</td>\n",
       "      <td>-0.182010</td>\n",
       "      <td>0.165505</td>\n",
       "      <td>0.143061</td>\n",
       "    </tr>\n",
       "    <tr>\n",
       "      <th>AFDP</th>\n",
       "      <td>0.717995</td>\n",
       "      <td>-0.099333</td>\n",
       "      <td>0.040318</td>\n",
       "      <td>-0.119249</td>\n",
       "      <td>1.000000</td>\n",
       "      <td>0.744251</td>\n",
       "      <td>0.627254</td>\n",
       "      <td>-0.571541</td>\n",
       "      <td>0.727152</td>\n",
       "      <td>-0.334207</td>\n",
       "      <td>-0.037299</td>\n",
       "    </tr>\n",
       "    <tr>\n",
       "      <th>GTEP</th>\n",
       "      <td>0.977042</td>\n",
       "      <td>-0.049103</td>\n",
       "      <td>0.078575</td>\n",
       "      <td>-0.202784</td>\n",
       "      <td>0.744251</td>\n",
       "      <td>1.000000</td>\n",
       "      <td>0.874526</td>\n",
       "      <td>-0.756884</td>\n",
       "      <td>0.993784</td>\n",
       "      <td>-0.508259</td>\n",
       "      <td>-0.208496</td>\n",
       "    </tr>\n",
       "    <tr>\n",
       "      <th>TIT</th>\n",
       "      <td>0.891587</td>\n",
       "      <td>0.093067</td>\n",
       "      <td>0.029650</td>\n",
       "      <td>-0.247781</td>\n",
       "      <td>0.627254</td>\n",
       "      <td>0.874526</td>\n",
       "      <td>1.000000</td>\n",
       "      <td>-0.357320</td>\n",
       "      <td>0.887238</td>\n",
       "      <td>-0.688272</td>\n",
       "      <td>-0.231636</td>\n",
       "    </tr>\n",
       "    <tr>\n",
       "      <th>TAT</th>\n",
       "      <td>-0.720356</td>\n",
       "      <td>0.338569</td>\n",
       "      <td>-0.223479</td>\n",
       "      <td>0.010859</td>\n",
       "      <td>-0.571541</td>\n",
       "      <td>-0.756884</td>\n",
       "      <td>-0.357320</td>\n",
       "      <td>1.000000</td>\n",
       "      <td>-0.744740</td>\n",
       "      <td>0.063404</td>\n",
       "      <td>0.009888</td>\n",
       "    </tr>\n",
       "    <tr>\n",
       "      <th>CDP</th>\n",
       "      <td>0.988473</td>\n",
       "      <td>-0.100705</td>\n",
       "      <td>0.131198</td>\n",
       "      <td>-0.182010</td>\n",
       "      <td>0.727152</td>\n",
       "      <td>0.993784</td>\n",
       "      <td>0.887238</td>\n",
       "      <td>-0.744740</td>\n",
       "      <td>1.000000</td>\n",
       "      <td>-0.520783</td>\n",
       "      <td>-0.169103</td>\n",
       "    </tr>\n",
       "    <tr>\n",
       "      <th>CO</th>\n",
       "      <td>-0.541751</td>\n",
       "      <td>-0.088588</td>\n",
       "      <td>0.041614</td>\n",
       "      <td>0.165505</td>\n",
       "      <td>-0.334207</td>\n",
       "      <td>-0.508259</td>\n",
       "      <td>-0.688272</td>\n",
       "      <td>0.063404</td>\n",
       "      <td>-0.520783</td>\n",
       "      <td>1.000000</td>\n",
       "      <td>0.316743</td>\n",
       "    </tr>\n",
       "    <tr>\n",
       "      <th>NOX</th>\n",
       "      <td>-0.102631</td>\n",
       "      <td>-0.600006</td>\n",
       "      <td>0.256744</td>\n",
       "      <td>0.143061</td>\n",
       "      <td>-0.037299</td>\n",
       "      <td>-0.208496</td>\n",
       "      <td>-0.231636</td>\n",
       "      <td>0.009888</td>\n",
       "      <td>-0.169103</td>\n",
       "      <td>0.316743</td>\n",
       "      <td>1.000000</td>\n",
       "    </tr>\n",
       "  </tbody>\n",
       "</table>\n",
       "</div>"
      ],
      "text/plain": [
       "           TEY        AT        AP        AH      AFDP      GTEP       TIT  \\\n",
       "TEY   1.000000 -0.207495  0.146939 -0.110272  0.717995  0.977042  0.891587   \n",
       "AT   -0.207495  1.000000 -0.412953 -0.549432 -0.099333 -0.049103  0.093067   \n",
       "AP    0.146939 -0.412953  1.000000  0.042573  0.040318  0.078575  0.029650   \n",
       "AH   -0.110272 -0.549432  0.042573  1.000000 -0.119249 -0.202784 -0.247781   \n",
       "AFDP  0.717995 -0.099333  0.040318 -0.119249  1.000000  0.744251  0.627254   \n",
       "GTEP  0.977042 -0.049103  0.078575 -0.202784  0.744251  1.000000  0.874526   \n",
       "TIT   0.891587  0.093067  0.029650 -0.247781  0.627254  0.874526  1.000000   \n",
       "TAT  -0.720356  0.338569 -0.223479  0.010859 -0.571541 -0.756884 -0.357320   \n",
       "CDP   0.988473 -0.100705  0.131198 -0.182010  0.727152  0.993784  0.887238   \n",
       "CO   -0.541751 -0.088588  0.041614  0.165505 -0.334207 -0.508259 -0.688272   \n",
       "NOX  -0.102631 -0.600006  0.256744  0.143061 -0.037299 -0.208496 -0.231636   \n",
       "\n",
       "           TAT       CDP        CO       NOX  \n",
       "TEY  -0.720356  0.988473 -0.541751 -0.102631  \n",
       "AT    0.338569 -0.100705 -0.088588 -0.600006  \n",
       "AP   -0.223479  0.131198  0.041614  0.256744  \n",
       "AH    0.010859 -0.182010  0.165505  0.143061  \n",
       "AFDP -0.571541  0.727152 -0.334207 -0.037299  \n",
       "GTEP -0.756884  0.993784 -0.508259 -0.208496  \n",
       "TIT  -0.357320  0.887238 -0.688272 -0.231636  \n",
       "TAT   1.000000 -0.744740  0.063404  0.009888  \n",
       "CDP  -0.744740  1.000000 -0.520783 -0.169103  \n",
       "CO    0.063404 -0.520783  1.000000  0.316743  \n",
       "NOX   0.009888 -0.169103  0.316743  1.000000  "
      ]
     },
     "execution_count": 39,
     "metadata": {},
     "output_type": "execute_result"
    }
   ],
   "source": [
    "# Checking correlation between variables\n",
    "data.corr()"
   ]
  },
  {
   "cell_type": "code",
   "execution_count": 40,
   "id": "c9d09995",
   "metadata": {},
   "outputs": [
    {
     "data": {
      "image/png": "[encoded data removed]",
      "text/plain": [
       "<Figure size 1080x576 with 2 Axes>"
      ]
     },
     "metadata": {
      "needs_background": "light"
     },
     "output_type": "display_data"
    }
   ],
   "source": [
    "# Heatmap of correlation matrix\n",
    "corr = data.corr()\n",
    "fig, ax = plt.subplots(figsize=(15, 8))\n",
    "#Generate Heat Map, allow annotations and place floats in map\n",
    "sns.heatmap(corr, cmap='coolwarm', annot=True, fmt=\".2f\")\n",
    "plt.xticks(range(len(corr.columns)), corr.columns);\n",
    "plt.yticks(range(len(corr.columns)), corr.columns)\n",
    "plt.show()"
   ]
  },
  {
   "cell_type": "code",
   "execution_count": 41,
   "id": "f2e115cd",
   "metadata": {},
   "outputs": [
    {
     "data": {
      "image/png": "[encoded data removed]",
      "text/plain": [
       "<Figure size 1080x1440 with 10 Axes>"
      ]
     },
     "metadata": {
      "needs_background": "light"
     },
     "output_type": "display_data"
    }
   ],
   "source": [
    "# plot regplots  \n",
    "f, axes = plt.subplots(5,2, figsize=(15,20))\n",
    "\n",
    "sns.regplot(x = 'TEY', y = 'AT', data = data, ax = axes[0,0], color = 'g', scatter_kws={'alpha':0.6})\n",
    "axes[0,0].set_xlabel('TEY', fontsize = 14)\n",
    "axes[0,0].set_ylabel('AT', fontsize=14)\n",
    "axes[0,0].yaxis.tick_left()\n",
    "\n",
    "\n",
    "sns.regplot(x = 'TEY', y = 'AP', data = data, ax = axes[0,1], color = 'y',scatter_kws={'alpha':0.6})\n",
    "axes[0,1].set_xlabel('TEY', fontsize = 14)\n",
    "axes[0,1].set_ylabel('AP', fontsize=14)\n",
    "axes[0,1].yaxis.set_label_position(\"right\")\n",
    "axes[0,1].yaxis.tick_right()\n",
    "\n",
    "\n",
    "sns.regplot(x = 'TEY', y = 'AH', data = data, ax = axes[1,0], color = 'g',scatter_kws={'alpha':0.6})\n",
    "axes[1,0].set_xlabel('TEY', fontsize = 14)\n",
    "axes[1,0].set_ylabel('AH', fontsize=14)\n",
    "axes[1,0].yaxis.tick_left()\n",
    "\n",
    "\n",
    "sns.regplot(x = 'TEY', y = 'AFDP', data = data, ax = axes[1,1], color = 'y',scatter_kws={'alpha':0.6})\n",
    "axes[1,1].set_xlabel('TEY', fontsize = 14)\n",
    "axes[1,1].set_ylabel('AFDP', fontsize=14)\n",
    "axes[1,1].yaxis.set_label_position(\"right\")\n",
    "axes[1,1].yaxis.tick_right()\n",
    "\n",
    "\n",
    "sns.regplot(x = 'TEY', y = 'GTEP', data = data, ax = axes[2,0], color = 'g',scatter_kws={'alpha':0.6})\n",
    "axes[2,0].set_xlabel('TEY', fontsize = 14)\n",
    "axes[2,0].set_ylabel('GTEP', fontsize=14)\n",
    "axes[2,0].yaxis.tick_left()\n",
    "\n",
    "\n",
    "sns.regplot(x = 'TEY', y = 'TIT', data = data, ax = axes[2,1], color = 'y',scatter_kws={'alpha':0.6})\n",
    "axes[2,1].set_xlabel('TEY', fontsize = 14)\n",
    "axes[2,1].set_ylabel('TIT', fontsize=14)\n",
    "axes[2,1].yaxis.set_label_position(\"right\")\n",
    "axes[2,1].yaxis.tick_right()\n",
    "\n",
    "\n",
    "sns.regplot(x = 'TEY', y = 'TAT', data = data, ax = axes[3,0], color = 'g',scatter_kws={'alpha':0.6})\n",
    "axes[3,0].set_xlabel('TEY', fontsize = 14)\n",
    "axes[3,0].set_ylabel('TAT', fontsize=14)\n",
    "axes[3,0].yaxis.tick_left()\n",
    "\n",
    "\n",
    "sns.regplot(x = 'TEY', y = 'CDP', data = data, ax = axes[3,1], color = 'y',scatter_kws={'alpha':0.6})\n",
    "axes[3,1].set_xlabel('TEY', fontsize = 14)\n",
    "axes[3,1].set_ylabel('CDP', fontsize=14)\n",
    "axes[3,1].yaxis.set_label_position(\"right\")\n",
    "axes[3,1].yaxis.tick_right()\n",
    "\n",
    "sns.regplot(x = 'TEY', y = 'CO', data = data, ax = axes[4,0], color = 'g',scatter_kws={'alpha':0.6})\n",
    "axes[4,0].set_xlabel('TEY', fontsize = 14)\n",
    "axes[4,0].set_ylabel('CO', fontsize=14)\n",
    "axes[4,0].yaxis.set_label_position(\"right\")\n",
    "axes[4,0].yaxis.tick_left()\n",
    "\n",
    "sns.regplot(x = 'TEY', y = 'NOX', data = data, ax = axes[4,1], color = 'y',scatter_kws={'alpha':0.6})\n",
    "axes[4,1].set_xlabel('TEY', fontsize = 14)\n",
    "axes[4,1].set_ylabel('NOX', fontsize=14)\n",
    "axes[4,1].yaxis.set_label_position(\"right\")\n",
    "axes[4,1].yaxis.tick_right()\n",
    "\n",
    "plt.show()"
   ]
  },
  {
   "cell_type": "code",
   "execution_count": 42,
   "id": "f57d8252",
   "metadata": {},
   "outputs": [
    {
     "data": {
      "text/html": [
       "<div>\n",
       "<style scoped>\n",
       "    .dataframe tbody tr th:only-of-type {\n",
       "        vertical-align: middle;\n",
       "    }\n",
       "\n",
       "    .dataframe tbody tr th {\n",
       "        vertical-align: top;\n",
       "    }\n",
       "\n",
       "    .dataframe thead th {\n",
       "        text-align: right;\n",
       "    }\n",
       "</style>\n",
       "<table border=\"1\" class=\"dataframe\">\n",
       "  <thead>\n",
       "    <tr style=\"text-align: right;\">\n",
       "      <th></th>\n",
       "      <th>TEY</th>\n",
       "      <th>AFDP</th>\n",
       "      <th>GTEP</th>\n",
       "      <th>TIT</th>\n",
       "      <th>TAT</th>\n",
       "      <th>CDP</th>\n",
       "    </tr>\n",
       "  </thead>\n",
       "  <tbody>\n",
       "    <tr>\n",
       "      <th>0</th>\n",
       "      <td>114.70</td>\n",
       "      <td>3.5000</td>\n",
       "      <td>19.663</td>\n",
       "      <td>1059.2</td>\n",
       "      <td>550.00</td>\n",
       "      <td>10.605</td>\n",
       "    </tr>\n",
       "    <tr>\n",
       "      <th>1</th>\n",
       "      <td>114.72</td>\n",
       "      <td>3.4998</td>\n",
       "      <td>19.728</td>\n",
       "      <td>1059.3</td>\n",
       "      <td>550.00</td>\n",
       "      <td>10.598</td>\n",
       "    </tr>\n",
       "    <tr>\n",
       "      <th>2</th>\n",
       "      <td>114.71</td>\n",
       "      <td>3.4824</td>\n",
       "      <td>19.779</td>\n",
       "      <td>1059.4</td>\n",
       "      <td>549.87</td>\n",
       "      <td>10.601</td>\n",
       "    </tr>\n",
       "    <tr>\n",
       "      <th>3</th>\n",
       "      <td>114.72</td>\n",
       "      <td>3.4805</td>\n",
       "      <td>19.792</td>\n",
       "      <td>1059.6</td>\n",
       "      <td>549.99</td>\n",
       "      <td>10.606</td>\n",
       "    </tr>\n",
       "    <tr>\n",
       "      <th>4</th>\n",
       "      <td>114.72</td>\n",
       "      <td>3.4976</td>\n",
       "      <td>19.765</td>\n",
       "      <td>1059.7</td>\n",
       "      <td>549.98</td>\n",
       "      <td>10.612</td>\n",
       "    </tr>\n",
       "    <tr>\n",
       "      <th>...</th>\n",
       "      <td>...</td>\n",
       "      <td>...</td>\n",
       "      <td>...</td>\n",
       "      <td>...</td>\n",
       "      <td>...</td>\n",
       "      <td>...</td>\n",
       "    </tr>\n",
       "    <tr>\n",
       "      <th>15034</th>\n",
       "      <td>111.61</td>\n",
       "      <td>3.5421</td>\n",
       "      <td>19.164</td>\n",
       "      <td>1049.7</td>\n",
       "      <td>546.21</td>\n",
       "      <td>10.400</td>\n",
       "    </tr>\n",
       "    <tr>\n",
       "      <th>15035</th>\n",
       "      <td>111.78</td>\n",
       "      <td>3.5059</td>\n",
       "      <td>19.414</td>\n",
       "      <td>1046.3</td>\n",
       "      <td>543.22</td>\n",
       "      <td>10.433</td>\n",
       "    </tr>\n",
       "    <tr>\n",
       "      <th>15036</th>\n",
       "      <td>110.19</td>\n",
       "      <td>3.4770</td>\n",
       "      <td>19.530</td>\n",
       "      <td>1037.7</td>\n",
       "      <td>537.32</td>\n",
       "      <td>10.483</td>\n",
       "    </tr>\n",
       "    <tr>\n",
       "      <th>15037</th>\n",
       "      <td>110.74</td>\n",
       "      <td>3.4486</td>\n",
       "      <td>19.377</td>\n",
       "      <td>1043.2</td>\n",
       "      <td>541.24</td>\n",
       "      <td>10.533</td>\n",
       "    </tr>\n",
       "    <tr>\n",
       "      <th>15038</th>\n",
       "      <td>111.58</td>\n",
       "      <td>3.4275</td>\n",
       "      <td>19.306</td>\n",
       "      <td>1049.9</td>\n",
       "      <td>545.85</td>\n",
       "      <td>10.583</td>\n",
       "    </tr>\n",
       "  </tbody>\n",
       "</table>\n",
       "<p>15039 rows × 6 columns</p>\n",
       "</div>"
      ],
      "text/plain": [
       "          TEY    AFDP    GTEP     TIT     TAT     CDP\n",
       "0      114.70  3.5000  19.663  1059.2  550.00  10.605\n",
       "1      114.72  3.4998  19.728  1059.3  550.00  10.598\n",
       "2      114.71  3.4824  19.779  1059.4  549.87  10.601\n",
       "3      114.72  3.4805  19.792  1059.6  549.99  10.606\n",
       "4      114.72  3.4976  19.765  1059.7  549.98  10.612\n",
       "...       ...     ...     ...     ...     ...     ...\n",
       "15034  111.61  3.5421  19.164  1049.7  546.21  10.400\n",
       "15035  111.78  3.5059  19.414  1046.3  543.22  10.433\n",
       "15036  110.19  3.4770  19.530  1037.7  537.32  10.483\n",
       "15037  110.74  3.4486  19.377  1043.2  541.24  10.533\n",
       "15038  111.58  3.4275  19.306  1049.9  545.85  10.583\n",
       "\n",
       "[15039 rows x 6 columns]"
      ]
     },
     "execution_count": 42,
     "metadata": {},
     "output_type": "execute_result"
    }
   ],
   "source": [
    "data1= data.drop(['AT','AP','AH','CO','NOX'], axis = 1)\n",
    "data1 "
   ]
  },
  {
   "cell_type": "code",
   "execution_count": 43,
   "id": "6f13133c",
   "metadata": {},
   "outputs": [],
   "source": [
    "#normalizing the data\n",
    "array1= data1.values"
   ]
  },
  {
   "cell_type": "code",
   "execution_count": 44,
   "id": "9d02dd3a",
   "metadata": {},
   "outputs": [
    {
     "data": {
      "text/plain": [
       "array([[ 114.7   ,    3.5   ,   19.663 , 1059.2   ,  550.    ,   10.605 ],\n",
       "       [ 114.72  ,    3.4998,   19.728 , 1059.3   ,  550.    ,   10.598 ],\n",
       "       [ 114.71  ,    3.4824,   19.779 , 1059.4   ,  549.87  ,   10.601 ],\n",
       "       ...,\n",
       "       [ 110.19  ,    3.477 ,   19.53  , 1037.7   ,  537.32  ,   10.483 ],\n",
       "       [ 110.74  ,    3.4486,   19.377 , 1043.2   ,  541.24  ,   10.533 ],\n",
       "       [ 111.58  ,    3.4275,   19.306 , 1049.9   ,  545.85  ,   10.583 ]])"
      ]
     },
     "execution_count": 44,
     "metadata": {},
     "output_type": "execute_result"
    }
   ],
   "source": [
    "array1"
   ]
  },
  {
   "cell_type": "code",
   "execution_count": 45,
   "id": "bb8e0596",
   "metadata": {},
   "outputs": [],
   "source": [
    "from sklearn.preprocessing import StandardScaler"
   ]
  },
  {
   "cell_type": "code",
   "execution_count": 46,
   "id": "2239c72b",
   "metadata": {},
   "outputs": [
    {
     "data": {
      "text/plain": [
       "array([[-1.23117246, -0.92123188, -1.37910125, -1.48837592,  0.58524028,\n",
       "        -1.35733078],\n",
       "       [-1.22990897, -0.92149498, -1.36352783, -1.4823253 ,  0.58524028,\n",
       "        -1.36367619],\n",
       "       [-1.23054071, -0.94438456, -1.35130868, -1.47627469,  0.56871459,\n",
       "        -1.36095673],\n",
       "       ...,\n",
       "       [-1.5160891 , -0.95148822, -1.41096688, -2.78925732, -1.02664984,\n",
       "        -1.46792219],\n",
       "       [-1.48134317, -0.98884822, -1.44762432, -2.4564737 , -0.52833681,\n",
       "        -1.42259784],\n",
       "       [-1.42827666, -1.01660512, -1.46463529, -2.05108275,  0.05768949,\n",
       "        -1.37727349]])"
      ]
     },
     "execution_count": 46,
     "metadata": {},
     "output_type": "execute_result"
    }
   ],
   "source": [
    "scaler = StandardScaler().fit(array1)\n",
    "rescaledX = scaler.transform(array1)\n",
    "rescaledX"
   ]
  },
  {
   "cell_type": "code",
   "execution_count": 47,
   "id": "b47ade89",
   "metadata": {},
   "outputs": [
    {
     "data": {
      "text/html": [
       "<div>\n",
       "<style scoped>\n",
       "    .dataframe tbody tr th:only-of-type {\n",
       "        vertical-align: middle;\n",
       "    }\n",
       "\n",
       "    .dataframe tbody tr th {\n",
       "        vertical-align: top;\n",
       "    }\n",
       "\n",
       "    .dataframe thead th {\n",
       "        text-align: right;\n",
       "    }\n",
       "</style>\n",
       "<table border=\"1\" class=\"dataframe\">\n",
       "  <thead>\n",
       "    <tr style=\"text-align: right;\">\n",
       "      <th></th>\n",
       "      <th>TEY</th>\n",
       "      <th>AFDP</th>\n",
       "      <th>GTEP</th>\n",
       "      <th>TIT</th>\n",
       "      <th>TAT</th>\n",
       "      <th>CDP</th>\n",
       "    </tr>\n",
       "  </thead>\n",
       "  <tbody>\n",
       "    <tr>\n",
       "      <th>0</th>\n",
       "      <td>-1.231172</td>\n",
       "      <td>-0.921232</td>\n",
       "      <td>-1.379101</td>\n",
       "      <td>-1.488376</td>\n",
       "      <td>0.585240</td>\n",
       "      <td>-1.357331</td>\n",
       "    </tr>\n",
       "    <tr>\n",
       "      <th>1</th>\n",
       "      <td>-1.229909</td>\n",
       "      <td>-0.921495</td>\n",
       "      <td>-1.363528</td>\n",
       "      <td>-1.482325</td>\n",
       "      <td>0.585240</td>\n",
       "      <td>-1.363676</td>\n",
       "    </tr>\n",
       "    <tr>\n",
       "      <th>2</th>\n",
       "      <td>-1.230541</td>\n",
       "      <td>-0.944385</td>\n",
       "      <td>-1.351309</td>\n",
       "      <td>-1.476275</td>\n",
       "      <td>0.568715</td>\n",
       "      <td>-1.360957</td>\n",
       "    </tr>\n",
       "    <tr>\n",
       "      <th>3</th>\n",
       "      <td>-1.229909</td>\n",
       "      <td>-0.946884</td>\n",
       "      <td>-1.348194</td>\n",
       "      <td>-1.464173</td>\n",
       "      <td>0.583969</td>\n",
       "      <td>-1.356424</td>\n",
       "    </tr>\n",
       "    <tr>\n",
       "      <th>4</th>\n",
       "      <td>-1.229909</td>\n",
       "      <td>-0.924389</td>\n",
       "      <td>-1.354663</td>\n",
       "      <td>-1.458123</td>\n",
       "      <td>0.582698</td>\n",
       "      <td>-1.350985</td>\n",
       "    </tr>\n",
       "    <tr>\n",
       "      <th>...</th>\n",
       "      <td>...</td>\n",
       "      <td>...</td>\n",
       "      <td>...</td>\n",
       "      <td>...</td>\n",
       "      <td>...</td>\n",
       "      <td>...</td>\n",
       "    </tr>\n",
       "    <tr>\n",
       "      <th>15034</th>\n",
       "      <td>-1.426381</td>\n",
       "      <td>-0.865850</td>\n",
       "      <td>-1.498657</td>\n",
       "      <td>-2.063184</td>\n",
       "      <td>0.103453</td>\n",
       "      <td>-1.543161</td>\n",
       "    </tr>\n",
       "    <tr>\n",
       "      <th>15035</th>\n",
       "      <td>-1.415642</td>\n",
       "      <td>-0.913470</td>\n",
       "      <td>-1.438759</td>\n",
       "      <td>-2.268905</td>\n",
       "      <td>-0.276638</td>\n",
       "      <td>-1.513247</td>\n",
       "    </tr>\n",
       "    <tr>\n",
       "      <th>15036</th>\n",
       "      <td>-1.516089</td>\n",
       "      <td>-0.951488</td>\n",
       "      <td>-1.410967</td>\n",
       "      <td>-2.789257</td>\n",
       "      <td>-1.026650</td>\n",
       "      <td>-1.467922</td>\n",
       "    </tr>\n",
       "    <tr>\n",
       "      <th>15037</th>\n",
       "      <td>-1.481343</td>\n",
       "      <td>-0.988848</td>\n",
       "      <td>-1.447624</td>\n",
       "      <td>-2.456474</td>\n",
       "      <td>-0.528337</td>\n",
       "      <td>-1.422598</td>\n",
       "    </tr>\n",
       "    <tr>\n",
       "      <th>15038</th>\n",
       "      <td>-1.428277</td>\n",
       "      <td>-1.016605</td>\n",
       "      <td>-1.464635</td>\n",
       "      <td>-2.051083</td>\n",
       "      <td>0.057689</td>\n",
       "      <td>-1.377273</td>\n",
       "    </tr>\n",
       "  </tbody>\n",
       "</table>\n",
       "<p>15039 rows × 6 columns</p>\n",
       "</div>"
      ],
      "text/plain": [
       "            TEY      AFDP      GTEP       TIT       TAT       CDP\n",
       "0     -1.231172 -0.921232 -1.379101 -1.488376  0.585240 -1.357331\n",
       "1     -1.229909 -0.921495 -1.363528 -1.482325  0.585240 -1.363676\n",
       "2     -1.230541 -0.944385 -1.351309 -1.476275  0.568715 -1.360957\n",
       "3     -1.229909 -0.946884 -1.348194 -1.464173  0.583969 -1.356424\n",
       "4     -1.229909 -0.924389 -1.354663 -1.458123  0.582698 -1.350985\n",
       "...         ...       ...       ...       ...       ...       ...\n",
       "15034 -1.426381 -0.865850 -1.498657 -2.063184  0.103453 -1.543161\n",
       "15035 -1.415642 -0.913470 -1.438759 -2.268905 -0.276638 -1.513247\n",
       "15036 -1.516089 -0.951488 -1.410967 -2.789257 -1.026650 -1.467922\n",
       "15037 -1.481343 -0.988848 -1.447624 -2.456474 -0.528337 -1.422598\n",
       "15038 -1.428277 -1.016605 -1.464635 -2.051083  0.057689 -1.377273\n",
       "\n",
       "[15039 rows x 6 columns]"
      ]
     },
     "execution_count": 47,
     "metadata": {},
     "output_type": "execute_result"
    }
   ],
   "source": [
    "data2=pd.DataFrame(rescaledX, columns=['TEY','AFDP','GTEP','TIT','TAT','CDP'] )\n",
    "data2"
   ]
  },
  {
   "cell_type": "code",
   "execution_count": 48,
   "id": "0b93b00f",
   "metadata": {},
   "outputs": [
    {
     "data": {
      "text/plain": [
       "0       -1.231172\n",
       "1       -1.229909\n",
       "2       -1.230541\n",
       "3       -1.229909\n",
       "4       -1.229909\n",
       "           ...   \n",
       "15034   -1.426381\n",
       "15035   -1.415642\n",
       "15036   -1.516089\n",
       "15037   -1.481343\n",
       "15038   -1.428277\n",
       "Name: TEY, Length: 15039, dtype: float64"
      ]
     },
     "execution_count": 48,
     "metadata": {},
     "output_type": "execute_result"
    }
   ],
   "source": [
    "y = data2['TEY']\n",
    "y"
   ]
  },
  {
   "cell_type": "code",
   "execution_count": 49,
   "id": "43f158ba",
   "metadata": {},
   "outputs": [
    {
     "data": {
      "text/html": [
       "<div>\n",
       "<style scoped>\n",
       "    .dataframe tbody tr th:only-of-type {\n",
       "        vertical-align: middle;\n",
       "    }\n",
       "\n",
       "    .dataframe tbody tr th {\n",
       "        vertical-align: top;\n",
       "    }\n",
       "\n",
       "    .dataframe thead th {\n",
       "        text-align: right;\n",
       "    }\n",
       "</style>\n",
       "<table border=\"1\" class=\"dataframe\">\n",
       "  <thead>\n",
       "    <tr style=\"text-align: right;\">\n",
       "      <th></th>\n",
       "      <th>AFDP</th>\n",
       "      <th>GTEP</th>\n",
       "      <th>TIT</th>\n",
       "      <th>TAT</th>\n",
       "      <th>CDP</th>\n",
       "    </tr>\n",
       "  </thead>\n",
       "  <tbody>\n",
       "    <tr>\n",
       "      <th>0</th>\n",
       "      <td>-0.921232</td>\n",
       "      <td>-1.379101</td>\n",
       "      <td>-1.488376</td>\n",
       "      <td>0.585240</td>\n",
       "      <td>-1.357331</td>\n",
       "    </tr>\n",
       "    <tr>\n",
       "      <th>1</th>\n",
       "      <td>-0.921495</td>\n",
       "      <td>-1.363528</td>\n",
       "      <td>-1.482325</td>\n",
       "      <td>0.585240</td>\n",
       "      <td>-1.363676</td>\n",
       "    </tr>\n",
       "    <tr>\n",
       "      <th>2</th>\n",
       "      <td>-0.944385</td>\n",
       "      <td>-1.351309</td>\n",
       "      <td>-1.476275</td>\n",
       "      <td>0.568715</td>\n",
       "      <td>-1.360957</td>\n",
       "    </tr>\n",
       "    <tr>\n",
       "      <th>3</th>\n",
       "      <td>-0.946884</td>\n",
       "      <td>-1.348194</td>\n",
       "      <td>-1.464173</td>\n",
       "      <td>0.583969</td>\n",
       "      <td>-1.356424</td>\n",
       "    </tr>\n",
       "    <tr>\n",
       "      <th>4</th>\n",
       "      <td>-0.924389</td>\n",
       "      <td>-1.354663</td>\n",
       "      <td>-1.458123</td>\n",
       "      <td>0.582698</td>\n",
       "      <td>-1.350985</td>\n",
       "    </tr>\n",
       "    <tr>\n",
       "      <th>...</th>\n",
       "      <td>...</td>\n",
       "      <td>...</td>\n",
       "      <td>...</td>\n",
       "      <td>...</td>\n",
       "      <td>...</td>\n",
       "    </tr>\n",
       "    <tr>\n",
       "      <th>15034</th>\n",
       "      <td>-0.865850</td>\n",
       "      <td>-1.498657</td>\n",
       "      <td>-2.063184</td>\n",
       "      <td>0.103453</td>\n",
       "      <td>-1.543161</td>\n",
       "    </tr>\n",
       "    <tr>\n",
       "      <th>15035</th>\n",
       "      <td>-0.913470</td>\n",
       "      <td>-1.438759</td>\n",
       "      <td>-2.268905</td>\n",
       "      <td>-0.276638</td>\n",
       "      <td>-1.513247</td>\n",
       "    </tr>\n",
       "    <tr>\n",
       "      <th>15036</th>\n",
       "      <td>-0.951488</td>\n",
       "      <td>-1.410967</td>\n",
       "      <td>-2.789257</td>\n",
       "      <td>-1.026650</td>\n",
       "      <td>-1.467922</td>\n",
       "    </tr>\n",
       "    <tr>\n",
       "      <th>15037</th>\n",
       "      <td>-0.988848</td>\n",
       "      <td>-1.447624</td>\n",
       "      <td>-2.456474</td>\n",
       "      <td>-0.528337</td>\n",
       "      <td>-1.422598</td>\n",
       "    </tr>\n",
       "    <tr>\n",
       "      <th>15038</th>\n",
       "      <td>-1.016605</td>\n",
       "      <td>-1.464635</td>\n",
       "      <td>-2.051083</td>\n",
       "      <td>0.057689</td>\n",
       "      <td>-1.377273</td>\n",
       "    </tr>\n",
       "  </tbody>\n",
       "</table>\n",
       "<p>15039 rows × 5 columns</p>\n",
       "</div>"
      ],
      "text/plain": [
       "           AFDP      GTEP       TIT       TAT       CDP\n",
       "0     -0.921232 -1.379101 -1.488376  0.585240 -1.357331\n",
       "1     -0.921495 -1.363528 -1.482325  0.585240 -1.363676\n",
       "2     -0.944385 -1.351309 -1.476275  0.568715 -1.360957\n",
       "3     -0.946884 -1.348194 -1.464173  0.583969 -1.356424\n",
       "4     -0.924389 -1.354663 -1.458123  0.582698 -1.350985\n",
       "...         ...       ...       ...       ...       ...\n",
       "15034 -0.865850 -1.498657 -2.063184  0.103453 -1.543161\n",
       "15035 -0.913470 -1.438759 -2.268905 -0.276638 -1.513247\n",
       "15036 -0.951488 -1.410967 -2.789257 -1.026650 -1.467922\n",
       "15037 -0.988848 -1.447624 -2.456474 -0.528337 -1.422598\n",
       "15038 -1.016605 -1.464635 -2.051083  0.057689 -1.377273\n",
       "\n",
       "[15039 rows x 5 columns]"
      ]
     },
     "execution_count": 49,
     "metadata": {},
     "output_type": "execute_result"
    }
   ],
   "source": [
    "X= data2.drop('TEY', axis=1)\n",
    "X"
   ]
  },
  {
   "cell_type": "code",
   "execution_count": 68,
   "id": "29da6080",
   "metadata": {},
   "outputs": [],
   "source": [
    "# Importing the necessary packages\n",
    "from sklearn.model_selection import GridSearchCV, KFold\n",
    "from keras.models import Sequential\n",
    "from keras.layers import Dense\n",
    "from keras.wrappers.scikit_learn import KerasClassifier\n",
    "#from keras.optimizers import Adam\n",
    "from tensorflow.keras.optimizers import Adam, SGD, RMSprop"
   ]
  },
  {
   "cell_type": "code",
   "execution_count": 69,
   "id": "8f14d3a9",
   "metadata": {},
   "outputs": [
    {
     "data": {
      "text/plain": [
       "5"
      ]
     },
     "execution_count": 69,
     "metadata": {},
     "output_type": "execute_result"
    }
   ],
   "source": [
    "n_features =X.shape[1]\n",
    "n_features"
   ]
  },
  {
   "cell_type": "code",
   "execution_count": 70,
   "id": "564fc4b2",
   "metadata": {},
   "outputs": [],
   "source": [
    "# create model\n",
    "def create_model():\n",
    "    model = Sequential()\n",
    "    model.add(Dense(12, input_dim=n_features, kernel_initializer='uniform', activation='relu'))\n",
    "    model.add(Dense(8, kernel_initializer='uniform', activation='relu'))\n",
    "    model.add(Dense(1, kernel_initializer='uniform', activation='sigmoid'))\n",
    "    #here we take loss func as means_squared_error coz its regression classifier\n",
    "    optmizer =RMSprop(0.03)#Learning_rate is 0.03\n",
    "    model.compile(loss='mean_squared_error', optimizer=optmizer, metrics=['accuracy'])\n",
    "    return model"
   ]
  },
  {
   "cell_type": "code",
   "execution_count": 71,
   "id": "a29b77c6",
   "metadata": {},
   "outputs": [
    {
     "name": "stderr",
     "output_type": "stream",
     "text": [
      "<ipython-input-71-435ad295a585>:2: DeprecationWarning: KerasClassifier is deprecated, use Sci-Keras (https://github.com/adriangb/scikeras) instead.\n",
      "  model = KerasClassifier(build_fn = create_model,verbose = 0)\n"
     ]
    },
    {
     "name": "stdout",
     "output_type": "stream",
     "text": [
      "Fitting 5 folds for each of 9 candidates, totalling 45 fits\n",
      "[CV 1/5; 1/9] START batch_size=10, epochs=10....................................\n",
      "[CV 1/5; 1/9] END ..................batch_size=10, epochs=10; total time=  19.4s\n",
      "[CV 2/5; 1/9] START batch_size=10, epochs=10....................................\n",
      "[CV 2/5; 1/9] END ..................batch_size=10, epochs=10; total time=  18.5s\n",
      "[CV 3/5; 1/9] START batch_size=10, epochs=10....................................\n",
      "[CV 3/5; 1/9] END ..................batch_size=10, epochs=10; total time=  17.2s\n",
      "[CV 4/5; 1/9] START batch_size=10, epochs=10....................................\n",
      "[CV 4/5; 1/9] END ..................batch_size=10, epochs=10; total time=  18.5s\n",
      "[CV 5/5; 1/9] START batch_size=10, epochs=10....................................\n",
      "[CV 5/5; 1/9] END ..................batch_size=10, epochs=10; total time=  16.5s\n",
      "[CV 1/5; 2/9] START batch_size=10, epochs=50....................................\n",
      "[CV 1/5; 2/9] END ..................batch_size=10, epochs=50; total time= 1.3min\n",
      "[CV 2/5; 2/9] START batch_size=10, epochs=50....................................\n",
      "[CV 2/5; 2/9] END ..................batch_size=10, epochs=50; total time= 1.5min\n",
      "[CV 3/5; 2/9] START batch_size=10, epochs=50....................................\n",
      "[CV 3/5; 2/9] END ..................batch_size=10, epochs=50; total time= 1.2min\n",
      "[CV 4/5; 2/9] START batch_size=10, epochs=50....................................\n",
      "[CV 4/5; 2/9] END ..................batch_size=10, epochs=50; total time= 1.2min\n",
      "[CV 5/5; 2/9] START batch_size=10, epochs=50....................................\n",
      "[CV 5/5; 2/9] END ..................batch_size=10, epochs=50; total time= 1.2min\n",
      "[CV 1/5; 3/9] START batch_size=10, epochs=100...................................\n",
      "[CV 1/5; 3/9] END .................batch_size=10, epochs=100; total time= 2.8min\n",
      "[CV 2/5; 3/9] START batch_size=10, epochs=100...................................\n",
      "[CV 2/5; 3/9] END .................batch_size=10, epochs=100; total time= 3.0min\n",
      "[CV 3/5; 3/9] START batch_size=10, epochs=100...................................\n",
      "[CV 3/5; 3/9] END .................batch_size=10, epochs=100; total time= 2.7min\n",
      "[CV 4/5; 3/9] START batch_size=10, epochs=100...................................\n",
      "[CV 4/5; 3/9] END .................batch_size=10, epochs=100; total time= 2.9min\n",
      "[CV 5/5; 3/9] START batch_size=10, epochs=100...................................\n",
      "[CV 5/5; 3/9] END .................batch_size=10, epochs=100; total time= 2.7min\n",
      "[CV 1/5; 4/9] START batch_size=20, epochs=10....................................\n",
      "[CV 1/5; 4/9] END ..................batch_size=20, epochs=10; total time=   9.3s\n",
      "[CV 2/5; 4/9] START batch_size=20, epochs=10....................................\n",
      "[CV 2/5; 4/9] END ..................batch_size=20, epochs=10; total time=   9.3s\n",
      "[CV 3/5; 4/9] START batch_size=20, epochs=10....................................\n",
      "[CV 3/5; 4/9] END ..................batch_size=20, epochs=10; total time=   9.7s\n",
      "[CV 4/5; 4/9] START batch_size=20, epochs=10....................................\n",
      "[CV 4/5; 4/9] END ..................batch_size=20, epochs=10; total time=   9.3s\n",
      "[CV 5/5; 4/9] START batch_size=20, epochs=10....................................\n",
      "[CV 5/5; 4/9] END ..................batch_size=20, epochs=10; total time=  16.1s\n",
      "[CV 1/5; 5/9] START batch_size=20, epochs=50....................................\n",
      "[CV 1/5; 5/9] END ..................batch_size=20, epochs=50; total time= 1.2min\n",
      "[CV 2/5; 5/9] START batch_size=20, epochs=50....................................\n",
      "[CV 2/5; 5/9] END ..................batch_size=20, epochs=50; total time=  57.9s\n",
      "[CV 3/5; 5/9] START batch_size=20, epochs=50....................................\n",
      "[CV 3/5; 5/9] END ..................batch_size=20, epochs=50; total time=  48.5s\n",
      "[CV 4/5; 5/9] START batch_size=20, epochs=50....................................\n",
      "[CV 4/5; 5/9] END ..................batch_size=20, epochs=50; total time=  49.4s\n",
      "[CV 5/5; 5/9] START batch_size=20, epochs=50....................................\n",
      "[CV 5/5; 5/9] END ..................batch_size=20, epochs=50; total time=  43.7s\n",
      "[CV 1/5; 6/9] START batch_size=20, epochs=100...................................\n",
      "[CV 1/5; 6/9] END .................batch_size=20, epochs=100; total time= 1.6min\n",
      "[CV 2/5; 6/9] START batch_size=20, epochs=100...................................\n",
      "[CV 2/5; 6/9] END .................batch_size=20, epochs=100; total time= 1.5min\n",
      "[CV 3/5; 6/9] START batch_size=20, epochs=100...................................\n",
      "[CV 3/5; 6/9] END .................batch_size=20, epochs=100; total time= 1.4min\n",
      "[CV 4/5; 6/9] START batch_size=20, epochs=100...................................\n",
      "[CV 4/5; 6/9] END .................batch_size=20, epochs=100; total time= 1.4min\n",
      "[CV 5/5; 6/9] START batch_size=20, epochs=100...................................\n",
      "[CV 5/5; 6/9] END .................batch_size=20, epochs=100; total time= 1.3min\n",
      "[CV 1/5; 7/9] START batch_size=40, epochs=10....................................\n",
      "[CV 1/5; 7/9] END ..................batch_size=40, epochs=10; total time=   4.5s\n",
      "[CV 2/5; 7/9] START batch_size=40, epochs=10....................................\n",
      "[CV 2/5; 7/9] END ..................batch_size=40, epochs=10; total time=   4.5s\n",
      "[CV 3/5; 7/9] START batch_size=40, epochs=10....................................\n",
      "[CV 3/5; 7/9] END ..................batch_size=40, epochs=10; total time=   5.3s\n",
      "[CV 4/5; 7/9] START batch_size=40, epochs=10....................................\n",
      "[CV 4/5; 7/9] END ..................batch_size=40, epochs=10; total time=   4.6s\n",
      "[CV 5/5; 7/9] START batch_size=40, epochs=10....................................\n",
      "[CV 5/5; 7/9] END ..................batch_size=40, epochs=10; total time=   4.4s\n",
      "[CV 1/5; 8/9] START batch_size=40, epochs=50....................................\n",
      "[CV 1/5; 8/9] END ..................batch_size=40, epochs=50; total time=  18.8s\n",
      "[CV 2/5; 8/9] START batch_size=40, epochs=50....................................\n",
      "[CV 2/5; 8/9] END ..................batch_size=40, epochs=50; total time=  18.7s\n",
      "[CV 3/5; 8/9] START batch_size=40, epochs=50....................................\n",
      "[CV 3/5; 8/9] END ..................batch_size=40, epochs=50; total time=  18.8s\n",
      "[CV 4/5; 8/9] START batch_size=40, epochs=50....................................\n",
      "[CV 4/5; 8/9] END ..................batch_size=40, epochs=50; total time=  19.1s\n",
      "[CV 5/5; 8/9] START batch_size=40, epochs=50....................................\n",
      "[CV 5/5; 8/9] END ..................batch_size=40, epochs=50; total time=  19.0s\n",
      "[CV 1/5; 9/9] START batch_size=40, epochs=100...................................\n",
      "[CV 1/5; 9/9] END .................batch_size=40, epochs=100; total time=  41.7s\n",
      "[CV 2/5; 9/9] START batch_size=40, epochs=100...................................\n",
      "[CV 2/5; 9/9] END .................batch_size=40, epochs=100; total time=  42.4s\n",
      "[CV 3/5; 9/9] START batch_size=40, epochs=100...................................\n",
      "[CV 3/5; 9/9] END .................batch_size=40, epochs=100; total time=  44.2s\n",
      "[CV 4/5; 9/9] START batch_size=40, epochs=100...................................\n",
      "[CV 4/5; 9/9] END .................batch_size=40, epochs=100; total time=  42.0s\n",
      "[CV 5/5; 9/9] START batch_size=40, epochs=100...................................\n",
      "[CV 5/5; 9/9] END .................batch_size=40, epochs=100; total time=  42.3s\n"
     ]
    }
   ],
   "source": [
    "# Create the model\n",
    "model = KerasClassifier(build_fn = create_model,verbose = 0)\n",
    "# Define the grid search parameters\n",
    "batch_size = [10,20,40]\n",
    "epochs = [10,50,100]\n",
    "# Make a dictionary of the grid search parameters\n",
    "param_grid = dict(batch_size = batch_size,epochs = epochs)\n",
    "# Build and fit the GridSearchCV\n",
    "grid = GridSearchCV(estimator = model,param_grid = param_grid,cv = KFold(),verbose = 10)\n",
    "grid_result = grid.fit(X,y)"
   ]
  },
  {
   "cell_type": "code",
   "execution_count": 72,
   "id": "7343960f",
   "metadata": {},
   "outputs": [
    {
     "name": "stdout",
     "output_type": "stream",
     "text": [
      "Best : 0.0, using {'batch_size': 10, 'epochs': 10}\n",
      "0.0,0.0 with: {'batch_size': 10, 'epochs': 10}\n",
      "0.0,0.0 with: {'batch_size': 10, 'epochs': 50}\n",
      "0.0,0.0 with: {'batch_size': 10, 'epochs': 100}\n",
      "0.0,0.0 with: {'batch_size': 20, 'epochs': 10}\n",
      "0.0,0.0 with: {'batch_size': 20, 'epochs': 50}\n",
      "0.0,0.0 with: {'batch_size': 20, 'epochs': 100}\n",
      "0.0,0.0 with: {'batch_size': 40, 'epochs': 10}\n",
      "0.0,0.0 with: {'batch_size': 40, 'epochs': 50}\n",
      "0.0,0.0 with: {'batch_size': 40, 'epochs': 100}\n"
     ]
    }
   ],
   "source": [
    "# Summarize the results\n",
    "print('Best : {}, using {}'.format(grid_result.best_score_,grid_result.best_params_))\n",
    "means = grid_result.cv_results_['mean_test_score']\n",
    "stds = grid_result.cv_results_['std_test_score']\n",
    "params = grid_result.cv_results_['params']\n",
    "for mean, stdev, param in zip(means, stds, params):\n",
    "    print('{},{} with: {}'.format(mean, stdev, param))"
   ]
  },
  {
   "cell_type": "code",
   "execution_count": null,
   "id": "a769f4f5",
   "metadata": {},
   "outputs": [],
   "source": [
    "#best batch size =10  and best epoch = 10"
   ]
  },
  {
   "cell_type": "code",
   "execution_count": 73,
   "id": "fd0a90b0",
   "metadata": {},
   "outputs": [],
   "source": [
    "from keras.layers import Dropout\n",
    "\n",
    "# Defining the model\n",
    "\n",
    "def create_model(learning_rate,dropout_rate):\n",
    "    model = Sequential()\n",
    "    model.add(Dense(8,input_dim = n_features,kernel_initializer = 'normal',activation = 'relu'))\n",
    "    model.add(Dropout(dropout_rate))\n",
    "    model.add(Dense(4,input_dim = n_features,kernel_initializer = 'normal',activation = 'relu'))\n",
    "    model.add(Dropout(dropout_rate))\n",
    "    model.add(Dense(1,activation = 'sigmoid'))\n",
    "    \n",
    "    adam = Adam(lr = learning_rate)\n",
    "    model.compile(loss='mean_squared_error',optimizer = adam,metrics = ['accuracy'])\n",
    "    return model\n"
   ]
  },
  {
   "cell_type": "code",
   "execution_count": 74,
   "id": "300d184b",
   "metadata": {},
   "outputs": [
    {
     "name": "stderr",
     "output_type": "stream",
     "text": [
      "<ipython-input-74-f5b33f965c82>:3: DeprecationWarning: KerasClassifier is deprecated, use Sci-Keras (https://github.com/adriangb/scikeras) instead.\n",
      "  model = KerasClassifier(build_fn = create_model,verbose = 0,batch_size = 10,epochs = 10)\n",
      "/opt/anaconda3/lib/python3.8/site-packages/keras/optimizer_v2/adam.py:105: UserWarning: The `lr` argument is deprecated, use `learning_rate` instead.\n",
      "  super(Adam, self).__init__(name, **kwargs)\n"
     ]
    },
    {
     "name": "stdout",
     "output_type": "stream",
     "text": [
      "Fitting 5 folds for each of 9 candidates, totalling 45 fits\n",
      "[CV 1/5; 1/9] START dropout_rate=0.0, learning_rate=0.001.......................\n",
      "[CV 1/5; 1/9] END .....dropout_rate=0.0, learning_rate=0.001; total time=  19.6s\n",
      "[CV 2/5; 1/9] START dropout_rate=0.0, learning_rate=0.001.......................\n"
     ]
    },
    {
     "name": "stderr",
     "output_type": "stream",
     "text": [
      "/opt/anaconda3/lib/python3.8/site-packages/keras/optimizer_v2/adam.py:105: UserWarning: The `lr` argument is deprecated, use `learning_rate` instead.\n",
      "  super(Adam, self).__init__(name, **kwargs)\n"
     ]
    },
    {
     "name": "stdout",
     "output_type": "stream",
     "text": [
      "[CV 2/5; 1/9] END .....dropout_rate=0.0, learning_rate=0.001; total time=  20.0s\n",
      "[CV 3/5; 1/9] START dropout_rate=0.0, learning_rate=0.001.......................\n"
     ]
    },
    {
     "name": "stderr",
     "output_type": "stream",
     "text": [
      "/opt/anaconda3/lib/python3.8/site-packages/keras/optimizer_v2/adam.py:105: UserWarning: The `lr` argument is deprecated, use `learning_rate` instead.\n",
      "  super(Adam, self).__init__(name, **kwargs)\n"
     ]
    },
    {
     "name": "stdout",
     "output_type": "stream",
     "text": [
      "[CV 3/5; 1/9] END .....dropout_rate=0.0, learning_rate=0.001; total time=  17.5s\n",
      "[CV 4/5; 1/9] START dropout_rate=0.0, learning_rate=0.001.......................\n"
     ]
    },
    {
     "name": "stderr",
     "output_type": "stream",
     "text": [
      "/opt/anaconda3/lib/python3.8/site-packages/keras/optimizer_v2/adam.py:105: UserWarning: The `lr` argument is deprecated, use `learning_rate` instead.\n",
      "  super(Adam, self).__init__(name, **kwargs)\n"
     ]
    },
    {
     "name": "stdout",
     "output_type": "stream",
     "text": [
      "[CV 4/5; 1/9] END .....dropout_rate=0.0, learning_rate=0.001; total time=  17.6s\n",
      "[CV 5/5; 1/9] START dropout_rate=0.0, learning_rate=0.001.......................\n"
     ]
    },
    {
     "name": "stderr",
     "output_type": "stream",
     "text": [
      "/opt/anaconda3/lib/python3.8/site-packages/keras/optimizer_v2/adam.py:105: UserWarning: The `lr` argument is deprecated, use `learning_rate` instead.\n",
      "  super(Adam, self).__init__(name, **kwargs)\n"
     ]
    },
    {
     "name": "stdout",
     "output_type": "stream",
     "text": [
      "[CV 5/5; 1/9] END .....dropout_rate=0.0, learning_rate=0.001; total time=  18.2s\n",
      "[CV 1/5; 2/9] START dropout_rate=0.0, learning_rate=0.01........................\n"
     ]
    },
    {
     "name": "stderr",
     "output_type": "stream",
     "text": [
      "/opt/anaconda3/lib/python3.8/site-packages/keras/optimizer_v2/adam.py:105: UserWarning: The `lr` argument is deprecated, use `learning_rate` instead.\n",
      "  super(Adam, self).__init__(name, **kwargs)\n"
     ]
    },
    {
     "name": "stdout",
     "output_type": "stream",
     "text": [
      "[CV 1/5; 2/9] END ......dropout_rate=0.0, learning_rate=0.01; total time=  18.5s\n",
      "[CV 2/5; 2/9] START dropout_rate=0.0, learning_rate=0.01........................\n"
     ]
    },
    {
     "name": "stderr",
     "output_type": "stream",
     "text": [
      "/opt/anaconda3/lib/python3.8/site-packages/keras/optimizer_v2/adam.py:105: UserWarning: The `lr` argument is deprecated, use `learning_rate` instead.\n",
      "  super(Adam, self).__init__(name, **kwargs)\n"
     ]
    },
    {
     "name": "stdout",
     "output_type": "stream",
     "text": [
      "[CV 2/5; 2/9] END ......dropout_rate=0.0, learning_rate=0.01; total time=  17.7s\n",
      "[CV 3/5; 2/9] START dropout_rate=0.0, learning_rate=0.01........................\n"
     ]
    },
    {
     "name": "stderr",
     "output_type": "stream",
     "text": [
      "/opt/anaconda3/lib/python3.8/site-packages/keras/optimizer_v2/adam.py:105: UserWarning: The `lr` argument is deprecated, use `learning_rate` instead.\n",
      "  super(Adam, self).__init__(name, **kwargs)\n"
     ]
    },
    {
     "name": "stdout",
     "output_type": "stream",
     "text": [
      "[CV 3/5; 2/9] END ......dropout_rate=0.0, learning_rate=0.01; total time=  16.5s\n",
      "[CV 4/5; 2/9] START dropout_rate=0.0, learning_rate=0.01........................\n"
     ]
    },
    {
     "name": "stderr",
     "output_type": "stream",
     "text": [
      "/opt/anaconda3/lib/python3.8/site-packages/keras/optimizer_v2/adam.py:105: UserWarning: The `lr` argument is deprecated, use `learning_rate` instead.\n",
      "  super(Adam, self).__init__(name, **kwargs)\n"
     ]
    },
    {
     "name": "stdout",
     "output_type": "stream",
     "text": [
      "[CV 4/5; 2/9] END ......dropout_rate=0.0, learning_rate=0.01; total time=  18.2s\n",
      "[CV 5/5; 2/9] START dropout_rate=0.0, learning_rate=0.01........................\n"
     ]
    },
    {
     "name": "stderr",
     "output_type": "stream",
     "text": [
      "/opt/anaconda3/lib/python3.8/site-packages/keras/optimizer_v2/adam.py:105: UserWarning: The `lr` argument is deprecated, use `learning_rate` instead.\n",
      "  super(Adam, self).__init__(name, **kwargs)\n"
     ]
    },
    {
     "name": "stdout",
     "output_type": "stream",
     "text": [
      "[CV 5/5; 2/9] END ......dropout_rate=0.0, learning_rate=0.01; total time=  18.0s\n",
      "[CV 1/5; 3/9] START dropout_rate=0.0, learning_rate=0.1.........................\n"
     ]
    },
    {
     "name": "stderr",
     "output_type": "stream",
     "text": [
      "/opt/anaconda3/lib/python3.8/site-packages/keras/optimizer_v2/adam.py:105: UserWarning: The `lr` argument is deprecated, use `learning_rate` instead.\n",
      "  super(Adam, self).__init__(name, **kwargs)\n"
     ]
    },
    {
     "name": "stdout",
     "output_type": "stream",
     "text": [
      "[CV 1/5; 3/9] END .......dropout_rate=0.0, learning_rate=0.1; total time=  18.9s\n",
      "[CV 2/5; 3/9] START dropout_rate=0.0, learning_rate=0.1.........................\n"
     ]
    },
    {
     "name": "stderr",
     "output_type": "stream",
     "text": [
      "/opt/anaconda3/lib/python3.8/site-packages/keras/optimizer_v2/adam.py:105: UserWarning: The `lr` argument is deprecated, use `learning_rate` instead.\n",
      "  super(Adam, self).__init__(name, **kwargs)\n"
     ]
    },
    {
     "name": "stdout",
     "output_type": "stream",
     "text": [
      "[CV 2/5; 3/9] END .......dropout_rate=0.0, learning_rate=0.1; total time=  17.7s\n",
      "[CV 3/5; 3/9] START dropout_rate=0.0, learning_rate=0.1.........................\n"
     ]
    },
    {
     "name": "stderr",
     "output_type": "stream",
     "text": [
      "/opt/anaconda3/lib/python3.8/site-packages/keras/optimizer_v2/adam.py:105: UserWarning: The `lr` argument is deprecated, use `learning_rate` instead.\n",
      "  super(Adam, self).__init__(name, **kwargs)\n"
     ]
    },
    {
     "name": "stdout",
     "output_type": "stream",
     "text": [
      "[CV 3/5; 3/9] END .......dropout_rate=0.0, learning_rate=0.1; total time=  19.0s\n",
      "[CV 4/5; 3/9] START dropout_rate=0.0, learning_rate=0.1.........................\n"
     ]
    },
    {
     "name": "stderr",
     "output_type": "stream",
     "text": [
      "/opt/anaconda3/lib/python3.8/site-packages/keras/optimizer_v2/adam.py:105: UserWarning: The `lr` argument is deprecated, use `learning_rate` instead.\n",
      "  super(Adam, self).__init__(name, **kwargs)\n"
     ]
    },
    {
     "name": "stdout",
     "output_type": "stream",
     "text": [
      "[CV 4/5; 3/9] END .......dropout_rate=0.0, learning_rate=0.1; total time=  17.9s\n",
      "[CV 5/5; 3/9] START dropout_rate=0.0, learning_rate=0.1.........................\n"
     ]
    },
    {
     "name": "stderr",
     "output_type": "stream",
     "text": [
      "/opt/anaconda3/lib/python3.8/site-packages/keras/optimizer_v2/adam.py:105: UserWarning: The `lr` argument is deprecated, use `learning_rate` instead.\n",
      "  super(Adam, self).__init__(name, **kwargs)\n"
     ]
    },
    {
     "name": "stdout",
     "output_type": "stream",
     "text": [
      "[CV 5/5; 3/9] END .......dropout_rate=0.0, learning_rate=0.1; total time=  18.0s\n",
      "[CV 1/5; 4/9] START dropout_rate=0.1, learning_rate=0.001.......................\n"
     ]
    },
    {
     "name": "stderr",
     "output_type": "stream",
     "text": [
      "/opt/anaconda3/lib/python3.8/site-packages/keras/optimizer_v2/adam.py:105: UserWarning: The `lr` argument is deprecated, use `learning_rate` instead.\n",
      "  super(Adam, self).__init__(name, **kwargs)\n"
     ]
    },
    {
     "name": "stdout",
     "output_type": "stream",
     "text": [
      "[CV 1/5; 4/9] END .....dropout_rate=0.1, learning_rate=0.001; total time=  17.4s\n",
      "[CV 2/5; 4/9] START dropout_rate=0.1, learning_rate=0.001.......................\n"
     ]
    },
    {
     "name": "stderr",
     "output_type": "stream",
     "text": [
      "/opt/anaconda3/lib/python3.8/site-packages/keras/optimizer_v2/adam.py:105: UserWarning: The `lr` argument is deprecated, use `learning_rate` instead.\n",
      "  super(Adam, self).__init__(name, **kwargs)\n"
     ]
    },
    {
     "name": "stdout",
     "output_type": "stream",
     "text": [
      "[CV 2/5; 4/9] END .....dropout_rate=0.1, learning_rate=0.001; total time=  17.4s\n",
      "[CV 3/5; 4/9] START dropout_rate=0.1, learning_rate=0.001.......................\n"
     ]
    },
    {
     "name": "stderr",
     "output_type": "stream",
     "text": [
      "/opt/anaconda3/lib/python3.8/site-packages/keras/optimizer_v2/adam.py:105: UserWarning: The `lr` argument is deprecated, use `learning_rate` instead.\n",
      "  super(Adam, self).__init__(name, **kwargs)\n"
     ]
    },
    {
     "name": "stdout",
     "output_type": "stream",
     "text": [
      "[CV 3/5; 4/9] END .....dropout_rate=0.1, learning_rate=0.001; total time=  18.7s\n",
      "[CV 4/5; 4/9] START dropout_rate=0.1, learning_rate=0.001.......................\n"
     ]
    },
    {
     "name": "stderr",
     "output_type": "stream",
     "text": [
      "/opt/anaconda3/lib/python3.8/site-packages/keras/optimizer_v2/adam.py:105: UserWarning: The `lr` argument is deprecated, use `learning_rate` instead.\n",
      "  super(Adam, self).__init__(name, **kwargs)\n"
     ]
    },
    {
     "name": "stdout",
     "output_type": "stream",
     "text": [
      "[CV 4/5; 4/9] END .....dropout_rate=0.1, learning_rate=0.001; total time=  18.1s\n",
      "[CV 5/5; 4/9] START dropout_rate=0.1, learning_rate=0.001.......................\n"
     ]
    },
    {
     "name": "stderr",
     "output_type": "stream",
     "text": [
      "/opt/anaconda3/lib/python3.8/site-packages/keras/optimizer_v2/adam.py:105: UserWarning: The `lr` argument is deprecated, use `learning_rate` instead.\n",
      "  super(Adam, self).__init__(name, **kwargs)\n"
     ]
    },
    {
     "name": "stdout",
     "output_type": "stream",
     "text": [
      "[CV 5/5; 4/9] END .....dropout_rate=0.1, learning_rate=0.001; total time=  17.7s\n",
      "[CV 1/5; 5/9] START dropout_rate=0.1, learning_rate=0.01........................\n"
     ]
    },
    {
     "name": "stderr",
     "output_type": "stream",
     "text": [
      "/opt/anaconda3/lib/python3.8/site-packages/keras/optimizer_v2/adam.py:105: UserWarning: The `lr` argument is deprecated, use `learning_rate` instead.\n",
      "  super(Adam, self).__init__(name, **kwargs)\n"
     ]
    },
    {
     "name": "stdout",
     "output_type": "stream",
     "text": [
      "[CV 1/5; 5/9] END ......dropout_rate=0.1, learning_rate=0.01; total time=  19.2s\n",
      "[CV 2/5; 5/9] START dropout_rate=0.1, learning_rate=0.01........................\n"
     ]
    },
    {
     "name": "stderr",
     "output_type": "stream",
     "text": [
      "/opt/anaconda3/lib/python3.8/site-packages/keras/optimizer_v2/adam.py:105: UserWarning: The `lr` argument is deprecated, use `learning_rate` instead.\n",
      "  super(Adam, self).__init__(name, **kwargs)\n"
     ]
    },
    {
     "name": "stdout",
     "output_type": "stream",
     "text": [
      "[CV 2/5; 5/9] END ......dropout_rate=0.1, learning_rate=0.01; total time=  19.0s\n",
      "[CV 3/5; 5/9] START dropout_rate=0.1, learning_rate=0.01........................\n"
     ]
    },
    {
     "name": "stderr",
     "output_type": "stream",
     "text": [
      "/opt/anaconda3/lib/python3.8/site-packages/keras/optimizer_v2/adam.py:105: UserWarning: The `lr` argument is deprecated, use `learning_rate` instead.\n",
      "  super(Adam, self).__init__(name, **kwargs)\n"
     ]
    },
    {
     "name": "stdout",
     "output_type": "stream",
     "text": [
      "[CV 3/5; 5/9] END ......dropout_rate=0.1, learning_rate=0.01; total time=  17.3s\n",
      "[CV 4/5; 5/9] START dropout_rate=0.1, learning_rate=0.01........................\n"
     ]
    },
    {
     "name": "stderr",
     "output_type": "stream",
     "text": [
      "/opt/anaconda3/lib/python3.8/site-packages/keras/optimizer_v2/adam.py:105: UserWarning: The `lr` argument is deprecated, use `learning_rate` instead.\n",
      "  super(Adam, self).__init__(name, **kwargs)\n"
     ]
    },
    {
     "name": "stdout",
     "output_type": "stream",
     "text": [
      "[CV 4/5; 5/9] END ......dropout_rate=0.1, learning_rate=0.01; total time=  18.6s\n",
      "[CV 5/5; 5/9] START dropout_rate=0.1, learning_rate=0.01........................\n"
     ]
    },
    {
     "name": "stderr",
     "output_type": "stream",
     "text": [
      "/opt/anaconda3/lib/python3.8/site-packages/keras/optimizer_v2/adam.py:105: UserWarning: The `lr` argument is deprecated, use `learning_rate` instead.\n",
      "  super(Adam, self).__init__(name, **kwargs)\n"
     ]
    },
    {
     "name": "stdout",
     "output_type": "stream",
     "text": [
      "[CV 5/5; 5/9] END ......dropout_rate=0.1, learning_rate=0.01; total time=  18.4s\n",
      "[CV 1/5; 6/9] START dropout_rate=0.1, learning_rate=0.1.........................\n"
     ]
    },
    {
     "name": "stderr",
     "output_type": "stream",
     "text": [
      "/opt/anaconda3/lib/python3.8/site-packages/keras/optimizer_v2/adam.py:105: UserWarning: The `lr` argument is deprecated, use `learning_rate` instead.\n",
      "  super(Adam, self).__init__(name, **kwargs)\n"
     ]
    },
    {
     "name": "stdout",
     "output_type": "stream",
     "text": [
      "[CV 1/5; 6/9] END .......dropout_rate=0.1, learning_rate=0.1; total time=  16.9s\n",
      "[CV 2/5; 6/9] START dropout_rate=0.1, learning_rate=0.1.........................\n"
     ]
    },
    {
     "name": "stderr",
     "output_type": "stream",
     "text": [
      "/opt/anaconda3/lib/python3.8/site-packages/keras/optimizer_v2/adam.py:105: UserWarning: The `lr` argument is deprecated, use `learning_rate` instead.\n",
      "  super(Adam, self).__init__(name, **kwargs)\n"
     ]
    },
    {
     "name": "stdout",
     "output_type": "stream",
     "text": [
      "[CV 2/5; 6/9] END .......dropout_rate=0.1, learning_rate=0.1; total time=  18.2s\n",
      "[CV 3/5; 6/9] START dropout_rate=0.1, learning_rate=0.1.........................\n"
     ]
    },
    {
     "name": "stderr",
     "output_type": "stream",
     "text": [
      "/opt/anaconda3/lib/python3.8/site-packages/keras/optimizer_v2/adam.py:105: UserWarning: The `lr` argument is deprecated, use `learning_rate` instead.\n",
      "  super(Adam, self).__init__(name, **kwargs)\n"
     ]
    },
    {
     "name": "stdout",
     "output_type": "stream",
     "text": [
      "[CV 3/5; 6/9] END .......dropout_rate=0.1, learning_rate=0.1; total time=  18.9s\n",
      "[CV 4/5; 6/9] START dropout_rate=0.1, learning_rate=0.1.........................\n"
     ]
    },
    {
     "name": "stderr",
     "output_type": "stream",
     "text": [
      "/opt/anaconda3/lib/python3.8/site-packages/keras/optimizer_v2/adam.py:105: UserWarning: The `lr` argument is deprecated, use `learning_rate` instead.\n",
      "  super(Adam, self).__init__(name, **kwargs)\n"
     ]
    },
    {
     "name": "stdout",
     "output_type": "stream",
     "text": [
      "[CV 4/5; 6/9] END .......dropout_rate=0.1, learning_rate=0.1; total time=  18.4s\n",
      "[CV 5/5; 6/9] START dropout_rate=0.1, learning_rate=0.1.........................\n"
     ]
    },
    {
     "name": "stderr",
     "output_type": "stream",
     "text": [
      "/opt/anaconda3/lib/python3.8/site-packages/keras/optimizer_v2/adam.py:105: UserWarning: The `lr` argument is deprecated, use `learning_rate` instead.\n",
      "  super(Adam, self).__init__(name, **kwargs)\n"
     ]
    },
    {
     "name": "stdout",
     "output_type": "stream",
     "text": [
      "[CV 5/5; 6/9] END .......dropout_rate=0.1, learning_rate=0.1; total time=  16.9s\n",
      "[CV 1/5; 7/9] START dropout_rate=0.2, learning_rate=0.001.......................\n"
     ]
    },
    {
     "name": "stderr",
     "output_type": "stream",
     "text": [
      "/opt/anaconda3/lib/python3.8/site-packages/keras/optimizer_v2/adam.py:105: UserWarning: The `lr` argument is deprecated, use `learning_rate` instead.\n",
      "  super(Adam, self).__init__(name, **kwargs)\n"
     ]
    },
    {
     "name": "stdout",
     "output_type": "stream",
     "text": [
      "[CV 1/5; 7/9] END .....dropout_rate=0.2, learning_rate=0.001; total time=  17.9s\n",
      "[CV 2/5; 7/9] START dropout_rate=0.2, learning_rate=0.001.......................\n"
     ]
    },
    {
     "name": "stderr",
     "output_type": "stream",
     "text": [
      "/opt/anaconda3/lib/python3.8/site-packages/keras/optimizer_v2/adam.py:105: UserWarning: The `lr` argument is deprecated, use `learning_rate` instead.\n",
      "  super(Adam, self).__init__(name, **kwargs)\n"
     ]
    },
    {
     "name": "stdout",
     "output_type": "stream",
     "text": [
      "[CV 2/5; 7/9] END .....dropout_rate=0.2, learning_rate=0.001; total time=  18.4s\n",
      "[CV 3/5; 7/9] START dropout_rate=0.2, learning_rate=0.001.......................\n"
     ]
    },
    {
     "name": "stderr",
     "output_type": "stream",
     "text": [
      "/opt/anaconda3/lib/python3.8/site-packages/keras/optimizer_v2/adam.py:105: UserWarning: The `lr` argument is deprecated, use `learning_rate` instead.\n",
      "  super(Adam, self).__init__(name, **kwargs)\n"
     ]
    },
    {
     "name": "stdout",
     "output_type": "stream",
     "text": [
      "[CV 3/5; 7/9] END .....dropout_rate=0.2, learning_rate=0.001; total time=  18.5s\n",
      "[CV 4/5; 7/9] START dropout_rate=0.2, learning_rate=0.001.......................\n"
     ]
    },
    {
     "name": "stderr",
     "output_type": "stream",
     "text": [
      "/opt/anaconda3/lib/python3.8/site-packages/keras/optimizer_v2/adam.py:105: UserWarning: The `lr` argument is deprecated, use `learning_rate` instead.\n",
      "  super(Adam, self).__init__(name, **kwargs)\n"
     ]
    },
    {
     "name": "stdout",
     "output_type": "stream",
     "text": [
      "[CV 4/5; 7/9] END .....dropout_rate=0.2, learning_rate=0.001; total time=  17.7s\n",
      "[CV 5/5; 7/9] START dropout_rate=0.2, learning_rate=0.001.......................\n"
     ]
    },
    {
     "name": "stderr",
     "output_type": "stream",
     "text": [
      "/opt/anaconda3/lib/python3.8/site-packages/keras/optimizer_v2/adam.py:105: UserWarning: The `lr` argument is deprecated, use `learning_rate` instead.\n",
      "  super(Adam, self).__init__(name, **kwargs)\n"
     ]
    },
    {
     "name": "stdout",
     "output_type": "stream",
     "text": [
      "[CV 5/5; 7/9] END .....dropout_rate=0.2, learning_rate=0.001; total time=  19.3s\n",
      "[CV 1/5; 8/9] START dropout_rate=0.2, learning_rate=0.01........................\n"
     ]
    },
    {
     "name": "stderr",
     "output_type": "stream",
     "text": [
      "/opt/anaconda3/lib/python3.8/site-packages/keras/optimizer_v2/adam.py:105: UserWarning: The `lr` argument is deprecated, use `learning_rate` instead.\n",
      "  super(Adam, self).__init__(name, **kwargs)\n"
     ]
    },
    {
     "name": "stdout",
     "output_type": "stream",
     "text": [
      "[CV 1/5; 8/9] END ......dropout_rate=0.2, learning_rate=0.01; total time=  17.5s\n",
      "[CV 2/5; 8/9] START dropout_rate=0.2, learning_rate=0.01........................\n"
     ]
    },
    {
     "name": "stderr",
     "output_type": "stream",
     "text": [
      "/opt/anaconda3/lib/python3.8/site-packages/keras/optimizer_v2/adam.py:105: UserWarning: The `lr` argument is deprecated, use `learning_rate` instead.\n",
      "  super(Adam, self).__init__(name, **kwargs)\n"
     ]
    },
    {
     "name": "stdout",
     "output_type": "stream",
     "text": [
      "[CV 2/5; 8/9] END ......dropout_rate=0.2, learning_rate=0.01; total time=  19.4s\n",
      "[CV 3/5; 8/9] START dropout_rate=0.2, learning_rate=0.01........................\n"
     ]
    },
    {
     "name": "stderr",
     "output_type": "stream",
     "text": [
      "/opt/anaconda3/lib/python3.8/site-packages/keras/optimizer_v2/adam.py:105: UserWarning: The `lr` argument is deprecated, use `learning_rate` instead.\n",
      "  super(Adam, self).__init__(name, **kwargs)\n"
     ]
    },
    {
     "name": "stdout",
     "output_type": "stream",
     "text": [
      "[CV 3/5; 8/9] END ......dropout_rate=0.2, learning_rate=0.01; total time=  17.7s\n",
      "[CV 4/5; 8/9] START dropout_rate=0.2, learning_rate=0.01........................\n"
     ]
    },
    {
     "name": "stderr",
     "output_type": "stream",
     "text": [
      "/opt/anaconda3/lib/python3.8/site-packages/keras/optimizer_v2/adam.py:105: UserWarning: The `lr` argument is deprecated, use `learning_rate` instead.\n",
      "  super(Adam, self).__init__(name, **kwargs)\n"
     ]
    },
    {
     "name": "stdout",
     "output_type": "stream",
     "text": [
      "[CV 4/5; 8/9] END ......dropout_rate=0.2, learning_rate=0.01; total time=  18.6s\n",
      "[CV 5/5; 8/9] START dropout_rate=0.2, learning_rate=0.01........................\n"
     ]
    },
    {
     "name": "stderr",
     "output_type": "stream",
     "text": [
      "/opt/anaconda3/lib/python3.8/site-packages/keras/optimizer_v2/adam.py:105: UserWarning: The `lr` argument is deprecated, use `learning_rate` instead.\n",
      "  super(Adam, self).__init__(name, **kwargs)\n"
     ]
    },
    {
     "name": "stdout",
     "output_type": "stream",
     "text": [
      "[CV 5/5; 8/9] END ......dropout_rate=0.2, learning_rate=0.01; total time=  18.7s\n",
      "[CV 1/5; 9/9] START dropout_rate=0.2, learning_rate=0.1.........................\n"
     ]
    },
    {
     "name": "stderr",
     "output_type": "stream",
     "text": [
      "/opt/anaconda3/lib/python3.8/site-packages/keras/optimizer_v2/adam.py:105: UserWarning: The `lr` argument is deprecated, use `learning_rate` instead.\n",
      "  super(Adam, self).__init__(name, **kwargs)\n"
     ]
    },
    {
     "name": "stdout",
     "output_type": "stream",
     "text": [
      "[CV 1/5; 9/9] END .......dropout_rate=0.2, learning_rate=0.1; total time=  17.4s\n",
      "[CV 2/5; 9/9] START dropout_rate=0.2, learning_rate=0.1.........................\n"
     ]
    },
    {
     "name": "stderr",
     "output_type": "stream",
     "text": [
      "/opt/anaconda3/lib/python3.8/site-packages/keras/optimizer_v2/adam.py:105: UserWarning: The `lr` argument is deprecated, use `learning_rate` instead.\n",
      "  super(Adam, self).__init__(name, **kwargs)\n"
     ]
    },
    {
     "name": "stdout",
     "output_type": "stream",
     "text": [
      "[CV 2/5; 9/9] END .......dropout_rate=0.2, learning_rate=0.1; total time=  18.2s\n",
      "[CV 3/5; 9/9] START dropout_rate=0.2, learning_rate=0.1.........................\n"
     ]
    },
    {
     "name": "stderr",
     "output_type": "stream",
     "text": [
      "/opt/anaconda3/lib/python3.8/site-packages/keras/optimizer_v2/adam.py:105: UserWarning: The `lr` argument is deprecated, use `learning_rate` instead.\n",
      "  super(Adam, self).__init__(name, **kwargs)\n"
     ]
    },
    {
     "name": "stdout",
     "output_type": "stream",
     "text": [
      "[CV 3/5; 9/9] END .......dropout_rate=0.2, learning_rate=0.1; total time=  17.9s\n",
      "[CV 4/5; 9/9] START dropout_rate=0.2, learning_rate=0.1.........................\n"
     ]
    },
    {
     "name": "stderr",
     "output_type": "stream",
     "text": [
      "/opt/anaconda3/lib/python3.8/site-packages/keras/optimizer_v2/adam.py:105: UserWarning: The `lr` argument is deprecated, use `learning_rate` instead.\n",
      "  super(Adam, self).__init__(name, **kwargs)\n"
     ]
    },
    {
     "name": "stdout",
     "output_type": "stream",
     "text": [
      "[CV 4/5; 9/9] END .......dropout_rate=0.2, learning_rate=0.1; total time=  17.5s\n",
      "[CV 5/5; 9/9] START dropout_rate=0.2, learning_rate=0.1.........................\n"
     ]
    },
    {
     "name": "stderr",
     "output_type": "stream",
     "text": [
      "/opt/anaconda3/lib/python3.8/site-packages/keras/optimizer_v2/adam.py:105: UserWarning: The `lr` argument is deprecated, use `learning_rate` instead.\n",
      "  super(Adam, self).__init__(name, **kwargs)\n"
     ]
    },
    {
     "name": "stdout",
     "output_type": "stream",
     "text": [
      "[CV 5/5; 9/9] END .......dropout_rate=0.2, learning_rate=0.1; total time=  17.9s\n"
     ]
    },
    {
     "name": "stderr",
     "output_type": "stream",
     "text": [
      "/opt/anaconda3/lib/python3.8/site-packages/keras/optimizer_v2/adam.py:105: UserWarning: The `lr` argument is deprecated, use `learning_rate` instead.\n",
      "  super(Adam, self).__init__(name, **kwargs)\n"
     ]
    }
   ],
   "source": [
    "# Create the model\n",
    "\n",
    "model = KerasClassifier(build_fn = create_model,verbose = 0,batch_size = 10,epochs = 10)\n",
    "\n",
    "# Define the grid search parameters\n",
    "\n",
    "learning_rate = [0.001,0.01,0.1]\n",
    "dropout_rate = [0.0,0.1,0.2]\n",
    "\n",
    "# Make a dictionary of the grid search parameters\n",
    "\n",
    "param_grids = dict(learning_rate = learning_rate,dropout_rate = dropout_rate)\n",
    "\n",
    "# Build and fit the GridSearchCV\n",
    "\n",
    "grid = GridSearchCV(estimator = model,param_grid = param_grids,cv = KFold(),verbose = 10)\n",
    "grid_result = grid.fit(X,y)"
   ]
  },
  {
   "cell_type": "code",
   "execution_count": 75,
   "id": "574d8762",
   "metadata": {},
   "outputs": [
    {
     "name": "stdout",
     "output_type": "stream",
     "text": [
      "Best : 0.0, using {'dropout_rate': 0.0, 'learning_rate': 0.001}\n",
      "0.0,0.0 with: {'dropout_rate': 0.0, 'learning_rate': 0.001}\n",
      "0.0,0.0 with: {'dropout_rate': 0.0, 'learning_rate': 0.01}\n",
      "0.0,0.0 with: {'dropout_rate': 0.0, 'learning_rate': 0.1}\n",
      "0.0,0.0 with: {'dropout_rate': 0.1, 'learning_rate': 0.001}\n",
      "0.0,0.0 with: {'dropout_rate': 0.1, 'learning_rate': 0.01}\n",
      "0.0,0.0 with: {'dropout_rate': 0.1, 'learning_rate': 0.1}\n",
      "0.0,0.0 with: {'dropout_rate': 0.2, 'learning_rate': 0.001}\n",
      "0.0,0.0 with: {'dropout_rate': 0.2, 'learning_rate': 0.01}\n",
      "0.0,0.0 with: {'dropout_rate': 0.2, 'learning_rate': 0.1}\n"
     ]
    }
   ],
   "source": [
    " # Summarize the results\n",
    "print('Best : {}, using {}'.format(grid_result.best_score_,grid_result.best_params_))\n",
    "means = grid_result.cv_results_['mean_test_score']\n",
    "stds = grid_result.cv_results_['std_test_score']\n",
    "params = grid_result.cv_results_['params']\n",
    "for mean, stdev, param in zip(means, stds, params):\n",
    "    print('{},{} with: {}'.format(mean, stdev, param))"
   ]
  },
  {
   "cell_type": "code",
   "execution_count": 76,
   "id": "8ba4658f",
   "metadata": {},
   "outputs": [],
   "source": [
    "def create_model(neuron1,neuron2):#to determine the no for hidden layers neuron\n",
    "    model = Sequential()\n",
    "    model.add(Dense(neuron1,input_dim = n_features,kernel_initializer = 'uniform',activation = 'tanh'))\n",
    "    model.add(Dense(neuron2,input_dim = neuron1,kernel_initializer = 'uniform',activation = 'tanh'))\n",
    "    model.add(Dense(1,activation = 'sigmoid'))\n",
    "    \n",
    "    optmizer =RMSprop(0.001) \n",
    "    model.compile(loss='binary_crossentropy', optimizer=optmizer, metrics=['accuracy'])\n",
    "    return model"
   ]
  },
  {
   "cell_type": "code",
   "execution_count": 77,
   "id": "31d7723d",
   "metadata": {},
   "outputs": [
    {
     "name": "stderr",
     "output_type": "stream",
     "text": [
      "<ipython-input-77-6a298a04f66b>:2: DeprecationWarning: KerasClassifier is deprecated, use Sci-Keras (https://github.com/adriangb/scikeras) instead.\n",
      "  model = KerasClassifier(build_fn = create_model,verbose = 0,batch_size = 10,epochs = 10)\n"
     ]
    },
    {
     "name": "stdout",
     "output_type": "stream",
     "text": [
      "Fitting 5 folds for each of 56 candidates, totalling 280 fits\n",
      "[CV 1/5; 1/56] START neuron1=4, neuron2=2.......................................\n",
      "[CV 1/5; 1/56] END .....................neuron1=4, neuron2=2; total time=  20.1s\n",
      "[CV 2/5; 1/56] START neuron1=4, neuron2=2.......................................\n",
      "[CV 2/5; 1/56] END .....................neuron1=4, neuron2=2; total time=  20.5s\n",
      "[CV 3/5; 1/56] START neuron1=4, neuron2=2.......................................\n",
      "[CV 3/5; 1/56] END .....................neuron1=4, neuron2=2; total time=  21.2s\n",
      "[CV 4/5; 1/56] START neuron1=4, neuron2=2.......................................\n",
      "[CV 4/5; 1/56] END .....................neuron1=4, neuron2=2; total time=  19.5s\n",
      "[CV 5/5; 1/56] START neuron1=4, neuron2=2.......................................\n",
      "[CV 5/5; 1/56] END .....................neuron1=4, neuron2=2; total time=  18.9s\n",
      "[CV 1/5; 2/56] START neuron1=4, neuron2=4.......................................\n",
      "[CV 1/5; 2/56] END .....................neuron1=4, neuron2=4; total time=  21.7s\n",
      "[CV 2/5; 2/56] START neuron1=4, neuron2=4.......................................\n",
      "[CV 2/5; 2/56] END .....................neuron1=4, neuron2=4; total time=  17.7s\n",
      "[CV 3/5; 2/56] START neuron1=4, neuron2=4.......................................\n",
      "[CV 3/5; 2/56] END .....................neuron1=4, neuron2=4; total time=  19.8s\n",
      "[CV 4/5; 2/56] START neuron1=4, neuron2=4.......................................\n",
      "[CV 4/5; 2/56] END .....................neuron1=4, neuron2=4; total time=  18.4s\n",
      "[CV 5/5; 2/56] START neuron1=4, neuron2=4.......................................\n",
      "[CV 5/5; 2/56] END .....................neuron1=4, neuron2=4; total time=  17.2s\n",
      "[CV 1/5; 3/56] START neuron1=4, neuron2=8.......................................\n",
      "[CV 1/5; 3/56] END .....................neuron1=4, neuron2=8; total time=  16.8s\n",
      "[CV 2/5; 3/56] START neuron1=4, neuron2=8.......................................\n",
      "[CV 2/5; 3/56] END .....................neuron1=4, neuron2=8; total time=  19.9s\n",
      "[CV 3/5; 3/56] START neuron1=4, neuron2=8.......................................\n",
      "[CV 3/5; 3/56] END .....................neuron1=4, neuron2=8; total time=  20.4s\n",
      "[CV 4/5; 3/56] START neuron1=4, neuron2=8.......................................\n",
      "[CV 4/5; 3/56] END .....................neuron1=4, neuron2=8; total time=  17.6s\n",
      "[CV 5/5; 3/56] START neuron1=4, neuron2=8.......................................\n",
      "[CV 5/5; 3/56] END .....................neuron1=4, neuron2=8; total time=  20.1s\n",
      "[CV 1/5; 4/56] START neuron1=4, neuron2=20......................................\n",
      "[CV 1/5; 4/56] END ....................neuron1=4, neuron2=20; total time=  19.3s\n",
      "[CV 2/5; 4/56] START neuron1=4, neuron2=20......................................\n",
      "[CV 2/5; 4/56] END ....................neuron1=4, neuron2=20; total time=  19.2s\n",
      "[CV 3/5; 4/56] START neuron1=4, neuron2=20......................................\n",
      "[CV 3/5; 4/56] END ....................neuron1=4, neuron2=20; total time=  19.7s\n",
      "[CV 4/5; 4/56] START neuron1=4, neuron2=20......................................\n",
      "[CV 4/5; 4/56] END ....................neuron1=4, neuron2=20; total time=  20.1s\n",
      "[CV 5/5; 4/56] START neuron1=4, neuron2=20......................................\n",
      "[CV 5/5; 4/56] END ....................neuron1=4, neuron2=20; total time=  19.8s\n",
      "[CV 1/5; 5/56] START neuron1=4, neuron2=30......................................\n",
      "[CV 1/5; 5/56] END ....................neuron1=4, neuron2=30; total time=  17.3s\n",
      "[CV 2/5; 5/56] START neuron1=4, neuron2=30......................................\n",
      "[CV 2/5; 5/56] END ....................neuron1=4, neuron2=30; total time=  18.8s\n",
      "[CV 3/5; 5/56] START neuron1=4, neuron2=30......................................\n",
      "[CV 3/5; 5/56] END ....................neuron1=4, neuron2=30; total time=  17.6s\n",
      "[CV 4/5; 5/56] START neuron1=4, neuron2=30......................................\n",
      "[CV 4/5; 5/56] END ....................neuron1=4, neuron2=30; total time=  17.1s\n",
      "[CV 5/5; 5/56] START neuron1=4, neuron2=30......................................\n",
      "[CV 5/5; 5/56] END ....................neuron1=4, neuron2=30; total time=  17.1s\n",
      "[CV 1/5; 6/56] START neuron1=4, neuron2=40......................................\n",
      "[CV 1/5; 6/56] END ....................neuron1=4, neuron2=40; total time=  17.6s\n",
      "[CV 2/5; 6/56] START neuron1=4, neuron2=40......................................\n",
      "[CV 2/5; 6/56] END ....................neuron1=4, neuron2=40; total time=  19.0s\n",
      "[CV 3/5; 6/56] START neuron1=4, neuron2=40......................................\n",
      "[CV 3/5; 6/56] END ....................neuron1=4, neuron2=40; total time=  17.2s\n",
      "[CV 4/5; 6/56] START neuron1=4, neuron2=40......................................\n",
      "[CV 4/5; 6/56] END ....................neuron1=4, neuron2=40; total time=  17.1s\n",
      "[CV 5/5; 6/56] START neuron1=4, neuron2=40......................................\n",
      "[CV 5/5; 6/56] END ....................neuron1=4, neuron2=40; total time=  17.6s\n",
      "[CV 1/5; 7/56] START neuron1=4, neuron2=50......................................\n",
      "[CV 1/5; 7/56] END ....................neuron1=4, neuron2=50; total time=  17.5s\n",
      "[CV 2/5; 7/56] START neuron1=4, neuron2=50......................................\n",
      "[CV 2/5; 7/56] END ....................neuron1=4, neuron2=50; total time=  17.0s\n",
      "[CV 3/5; 7/56] START neuron1=4, neuron2=50......................................\n",
      "[CV 3/5; 7/56] END ....................neuron1=4, neuron2=50; total time=  17.2s\n",
      "[CV 4/5; 7/56] START neuron1=4, neuron2=50......................................\n",
      "[CV 4/5; 7/56] END ....................neuron1=4, neuron2=50; total time=  16.8s\n",
      "[CV 5/5; 7/56] START neuron1=4, neuron2=50......................................\n",
      "[CV 5/5; 7/56] END ....................neuron1=4, neuron2=50; total time=  17.1s\n",
      "[CV 1/5; 8/56] START neuron1=4, neuron2=60......................................\n",
      "[CV 1/5; 8/56] END ....................neuron1=4, neuron2=60; total time=  17.3s\n",
      "[CV 2/5; 8/56] START neuron1=4, neuron2=60......................................\n",
      "[CV 2/5; 8/56] END ....................neuron1=4, neuron2=60; total time=  17.2s\n",
      "[CV 3/5; 8/56] START neuron1=4, neuron2=60......................................\n",
      "[CV 3/5; 8/56] END ....................neuron1=4, neuron2=60; total time=  17.3s\n",
      "[CV 4/5; 8/56] START neuron1=4, neuron2=60......................................\n",
      "[CV 4/5; 8/56] END ....................neuron1=4, neuron2=60; total time=  17.2s\n",
      "[CV 5/5; 8/56] START neuron1=4, neuron2=60......................................\n",
      "[CV 5/5; 8/56] END ....................neuron1=4, neuron2=60; total time=  17.9s\n",
      "[CV 1/5; 9/56] START neuron1=8, neuron2=2.......................................\n",
      "[CV 1/5; 9/56] END .....................neuron1=8, neuron2=2; total time=  17.1s\n",
      "[CV 2/5; 9/56] START neuron1=8, neuron2=2.......................................\n",
      "[CV 2/5; 9/56] END .....................neuron1=8, neuron2=2; total time=  17.2s\n",
      "[CV 3/5; 9/56] START neuron1=8, neuron2=2.......................................\n",
      "[CV 3/5; 9/56] END .....................neuron1=8, neuron2=2; total time=  16.8s\n",
      "[CV 4/5; 9/56] START neuron1=8, neuron2=2.......................................\n",
      "[CV 4/5; 9/56] END .....................neuron1=8, neuron2=2; total time=  16.8s\n",
      "[CV 5/5; 9/56] START neuron1=8, neuron2=2.......................................\n",
      "[CV 5/5; 9/56] END .....................neuron1=8, neuron2=2; total time=  17.1s\n",
      "[CV 1/5; 10/56] START neuron1=8, neuron2=4......................................\n",
      "[CV 1/5; 10/56] END ....................neuron1=8, neuron2=4; total time=  16.9s\n",
      "[CV 2/5; 10/56] START neuron1=8, neuron2=4......................................\n",
      "[CV 2/5; 10/56] END ....................neuron1=8, neuron2=4; total time=  16.8s\n",
      "[CV 3/5; 10/56] START neuron1=8, neuron2=4......................................\n",
      "[CV 3/5; 10/56] END ....................neuron1=8, neuron2=4; total time=  17.2s\n",
      "[CV 4/5; 10/56] START neuron1=8, neuron2=4......................................\n",
      "[CV 4/5; 10/56] END ....................neuron1=8, neuron2=4; total time=  17.3s\n",
      "[CV 5/5; 10/56] START neuron1=8, neuron2=4......................................\n",
      "[CV 5/5; 10/56] END ....................neuron1=8, neuron2=4; total time=  17.2s\n",
      "[CV 1/5; 11/56] START neuron1=8, neuron2=8......................................\n",
      "[CV 1/5; 11/56] END ....................neuron1=8, neuron2=8; total time=  16.9s\n",
      "[CV 2/5; 11/56] START neuron1=8, neuron2=8......................................\n",
      "[CV 2/5; 11/56] END ....................neuron1=8, neuron2=8; total time=  17.1s\n",
      "[CV 3/5; 11/56] START neuron1=8, neuron2=8......................................\n",
      "[CV 3/5; 11/56] END ....................neuron1=8, neuron2=8; total time=  16.9s\n",
      "[CV 4/5; 11/56] START neuron1=8, neuron2=8......................................\n",
      "[CV 4/5; 11/56] END ....................neuron1=8, neuron2=8; total time=  18.4s\n",
      "[CV 5/5; 11/56] START neuron1=8, neuron2=8......................................\n",
      "[CV 5/5; 11/56] END ....................neuron1=8, neuron2=8; total time=  17.4s\n",
      "[CV 1/5; 12/56] START neuron1=8, neuron2=20.....................................\n",
      "[CV 1/5; 12/56] END ...................neuron1=8, neuron2=20; total time=  23.2s\n",
      "[CV 2/5; 12/56] START neuron1=8, neuron2=20.....................................\n",
      "[CV 2/5; 12/56] END ...................neuron1=8, neuron2=20; total time=  18.7s\n",
      "[CV 3/5; 12/56] START neuron1=8, neuron2=20.....................................\n",
      "[CV 3/5; 12/56] END ...................neuron1=8, neuron2=20; total time=  17.7s\n",
      "[CV 4/5; 12/56] START neuron1=8, neuron2=20.....................................\n",
      "[CV 4/5; 12/56] END ...................neuron1=8, neuron2=20; total time=  17.9s\n",
      "[CV 5/5; 12/56] START neuron1=8, neuron2=20.....................................\n",
      "[CV 5/5; 12/56] END ...................neuron1=8, neuron2=20; total time=  17.3s\n",
      "[CV 1/5; 13/56] START neuron1=8, neuron2=30.....................................\n",
      "[CV 1/5; 13/56] END ...................neuron1=8, neuron2=30; total time=  17.1s\n",
      "[CV 2/5; 13/56] START neuron1=8, neuron2=30.....................................\n",
      "[CV 2/5; 13/56] END ...................neuron1=8, neuron2=30; total time=  17.5s\n",
      "[CV 3/5; 13/56] START neuron1=8, neuron2=30.....................................\n",
      "[CV 3/5; 13/56] END ...................neuron1=8, neuron2=30; total time=  17.1s\n",
      "[CV 4/5; 13/56] START neuron1=8, neuron2=30.....................................\n",
      "[CV 4/5; 13/56] END ...................neuron1=8, neuron2=30; total time=  17.1s\n",
      "[CV 5/5; 13/56] START neuron1=8, neuron2=30.....................................\n",
      "[CV 5/5; 13/56] END ...................neuron1=8, neuron2=30; total time=  17.1s\n",
      "[CV 1/5; 14/56] START neuron1=8, neuron2=40.....................................\n",
      "[CV 1/5; 14/56] END ...................neuron1=8, neuron2=40; total time=  17.1s\n",
      "[CV 2/5; 14/56] START neuron1=8, neuron2=40.....................................\n",
      "[CV 2/5; 14/56] END ...................neuron1=8, neuron2=40; total time=  17.1s\n",
      "[CV 3/5; 14/56] START neuron1=8, neuron2=40.....................................\n",
      "[CV 3/5; 14/56] END ...................neuron1=8, neuron2=40; total time=  17.2s\n",
      "[CV 4/5; 14/56] START neuron1=8, neuron2=40.....................................\n",
      "[CV 4/5; 14/56] END ...................neuron1=8, neuron2=40; total time=  17.0s\n",
      "[CV 5/5; 14/56] START neuron1=8, neuron2=40.....................................\n",
      "[CV 5/5; 14/56] END ...................neuron1=8, neuron2=40; total time=  17.7s\n",
      "[CV 1/5; 15/56] START neuron1=8, neuron2=50.....................................\n",
      "[CV 1/5; 15/56] END ...................neuron1=8, neuron2=50; total time=  17.3s\n",
      "[CV 2/5; 15/56] START neuron1=8, neuron2=50.....................................\n",
      "[CV 2/5; 15/56] END ...................neuron1=8, neuron2=50; total time=  17.2s\n",
      "[CV 3/5; 15/56] START neuron1=8, neuron2=50.....................................\n",
      "[CV 3/5; 15/56] END ...................neuron1=8, neuron2=50; total time=  17.3s\n",
      "[CV 4/5; 15/56] START neuron1=8, neuron2=50.....................................\n",
      "[CV 4/5; 15/56] END ...................neuron1=8, neuron2=50; total time=  17.0s\n",
      "[CV 5/5; 15/56] START neuron1=8, neuron2=50.....................................\n",
      "[CV 5/5; 15/56] END ...................neuron1=8, neuron2=50; total time=  17.1s\n",
      "[CV 1/5; 16/56] START neuron1=8, neuron2=60.....................................\n",
      "[CV 1/5; 16/56] END ...................neuron1=8, neuron2=60; total time=  17.2s\n",
      "[CV 2/5; 16/56] START neuron1=8, neuron2=60.....................................\n",
      "[CV 2/5; 16/56] END ...................neuron1=8, neuron2=60; total time=  17.0s\n",
      "[CV 3/5; 16/56] START neuron1=8, neuron2=60.....................................\n",
      "[CV 3/5; 16/56] END ...................neuron1=8, neuron2=60; total time=  17.4s\n",
      "[CV 4/5; 16/56] START neuron1=8, neuron2=60.....................................\n",
      "[CV 4/5; 16/56] END ...................neuron1=8, neuron2=60; total time=  17.3s\n",
      "[CV 5/5; 16/56] START neuron1=8, neuron2=60.....................................\n",
      "[CV 5/5; 16/56] END ...................neuron1=8, neuron2=60; total time=  17.3s\n",
      "[CV 1/5; 17/56] START neuron1=16, neuron2=2.....................................\n",
      "[CV 1/5; 17/56] END ...................neuron1=16, neuron2=2; total time=  16.8s\n",
      "[CV 2/5; 17/56] START neuron1=16, neuron2=2.....................................\n",
      "[CV 2/5; 17/56] END ...................neuron1=16, neuron2=2; total time=  17.3s\n",
      "[CV 3/5; 17/56] START neuron1=16, neuron2=2.....................................\n",
      "[CV 3/5; 17/56] END ...................neuron1=16, neuron2=2; total time=  17.1s\n",
      "[CV 4/5; 17/56] START neuron1=16, neuron2=2.....................................\n",
      "[CV 4/5; 17/56] END ...................neuron1=16, neuron2=2; total time=  16.9s\n",
      "[CV 5/5; 17/56] START neuron1=16, neuron2=2.....................................\n",
      "[CV 5/5; 17/56] END ...................neuron1=16, neuron2=2; total time=  16.7s\n",
      "[CV 1/5; 18/56] START neuron1=16, neuron2=4.....................................\n",
      "[CV 1/5; 18/56] END ...................neuron1=16, neuron2=4; total time=  17.3s\n",
      "[CV 2/5; 18/56] START neuron1=16, neuron2=4.....................................\n",
      "[CV 2/5; 18/56] END ...................neuron1=16, neuron2=4; total time=  17.3s\n",
      "[CV 3/5; 18/56] START neuron1=16, neuron2=4.....................................\n",
      "[CV 3/5; 18/56] END ...................neuron1=16, neuron2=4; total time=  20.6s\n",
      "[CV 4/5; 18/56] START neuron1=16, neuron2=4.....................................\n",
      "[CV 4/5; 18/56] END ...................neuron1=16, neuron2=4; total time=  19.0s\n",
      "[CV 5/5; 18/56] START neuron1=16, neuron2=4.....................................\n",
      "[CV 5/5; 18/56] END ...................neuron1=16, neuron2=4; total time=  17.9s\n",
      "[CV 1/5; 19/56] START neuron1=16, neuron2=8.....................................\n",
      "[CV 1/5; 19/56] END ...................neuron1=16, neuron2=8; total time=  19.6s\n",
      "[CV 2/5; 19/56] START neuron1=16, neuron2=8.....................................\n",
      "[CV 2/5; 19/56] END ...................neuron1=16, neuron2=8; total time=  18.4s\n",
      "[CV 3/5; 19/56] START neuron1=16, neuron2=8.....................................\n",
      "[CV 3/5; 19/56] END ...................neuron1=16, neuron2=8; total time=  21.6s\n",
      "[CV 4/5; 19/56] START neuron1=16, neuron2=8.....................................\n",
      "[CV 4/5; 19/56] END ...................neuron1=16, neuron2=8; total time=  18.9s\n",
      "[CV 5/5; 19/56] START neuron1=16, neuron2=8.....................................\n",
      "[CV 5/5; 19/56] END ...................neuron1=16, neuron2=8; total time=  21.2s\n",
      "[CV 1/5; 20/56] START neuron1=16, neuron2=20....................................\n",
      "[CV 1/5; 20/56] END ..................neuron1=16, neuron2=20; total time=  17.5s\n",
      "[CV 2/5; 20/56] START neuron1=16, neuron2=20....................................\n",
      "[CV 2/5; 20/56] END ..................neuron1=16, neuron2=20; total time=  17.5s\n",
      "[CV 3/5; 20/56] START neuron1=16, neuron2=20....................................\n",
      "[CV 3/5; 20/56] END ..................neuron1=16, neuron2=20; total time=  19.0s\n",
      "[CV 4/5; 20/56] START neuron1=16, neuron2=20....................................\n",
      "[CV 4/5; 20/56] END ..................neuron1=16, neuron2=20; total time=  20.9s\n",
      "[CV 5/5; 20/56] START neuron1=16, neuron2=20....................................\n",
      "[CV 5/5; 20/56] END ..................neuron1=16, neuron2=20; total time=  20.5s\n",
      "[CV 1/5; 21/56] START neuron1=16, neuron2=30....................................\n",
      "[CV 1/5; 21/56] END ..................neuron1=16, neuron2=30; total time=  20.0s\n",
      "[CV 2/5; 21/56] START neuron1=16, neuron2=30....................................\n",
      "[CV 2/5; 21/56] END ..................neuron1=16, neuron2=30; total time=  21.7s\n",
      "[CV 3/5; 21/56] START neuron1=16, neuron2=30....................................\n",
      "[CV 3/5; 21/56] END ..................neuron1=16, neuron2=30; total time=  20.8s\n",
      "[CV 4/5; 21/56] START neuron1=16, neuron2=30....................................\n",
      "[CV 4/5; 21/56] END ..................neuron1=16, neuron2=30; total time=  20.0s\n",
      "[CV 5/5; 21/56] START neuron1=16, neuron2=30....................................\n",
      "[CV 5/5; 21/56] END ..................neuron1=16, neuron2=30; total time=  22.5s\n",
      "[CV 1/5; 22/56] START neuron1=16, neuron2=40....................................\n",
      "[CV 1/5; 22/56] END ..................neuron1=16, neuron2=40; total time=  19.2s\n",
      "[CV 2/5; 22/56] START neuron1=16, neuron2=40....................................\n",
      "[CV 2/5; 22/56] END ..................neuron1=16, neuron2=40; total time=  21.8s\n",
      "[CV 3/5; 22/56] START neuron1=16, neuron2=40....................................\n",
      "[CV 3/5; 22/56] END ..................neuron1=16, neuron2=40; total time=  20.0s\n",
      "[CV 4/5; 22/56] START neuron1=16, neuron2=40....................................\n",
      "[CV 4/5; 22/56] END ..................neuron1=16, neuron2=40; total time=  19.2s\n",
      "[CV 5/5; 22/56] START neuron1=16, neuron2=40....................................\n",
      "[CV 5/5; 22/56] END ..................neuron1=16, neuron2=40; total time=  22.7s\n",
      "[CV 1/5; 23/56] START neuron1=16, neuron2=50....................................\n",
      "[CV 1/5; 23/56] END ..................neuron1=16, neuron2=50; total time=  17.4s\n",
      "[CV 2/5; 23/56] START neuron1=16, neuron2=50....................................\n",
      "[CV 2/5; 23/56] END ..................neuron1=16, neuron2=50; total time=  18.0s\n",
      "[CV 3/5; 23/56] START neuron1=16, neuron2=50....................................\n",
      "[CV 3/5; 23/56] END ..................neuron1=16, neuron2=50; total time=  18.5s\n",
      "[CV 4/5; 23/56] START neuron1=16, neuron2=50....................................\n",
      "[CV 4/5; 23/56] END ..................neuron1=16, neuron2=50; total time=  17.6s\n",
      "[CV 5/5; 23/56] START neuron1=16, neuron2=50....................................\n",
      "[CV 5/5; 23/56] END ..................neuron1=16, neuron2=50; total time=  17.4s\n",
      "[CV 1/5; 24/56] START neuron1=16, neuron2=60....................................\n",
      "[CV 1/5; 24/56] END ..................neuron1=16, neuron2=60; total time=  17.4s\n",
      "[CV 2/5; 24/56] START neuron1=16, neuron2=60....................................\n",
      "[CV 2/5; 24/56] END ..................neuron1=16, neuron2=60; total time=  17.3s\n",
      "[CV 3/5; 24/56] START neuron1=16, neuron2=60....................................\n",
      "[CV 3/5; 24/56] END ..................neuron1=16, neuron2=60; total time=  17.2s\n",
      "[CV 4/5; 24/56] START neuron1=16, neuron2=60....................................\n",
      "[CV 4/5; 24/56] END ..................neuron1=16, neuron2=60; total time=  17.3s\n",
      "[CV 5/5; 24/56] START neuron1=16, neuron2=60....................................\n",
      "[CV 5/5; 24/56] END ..................neuron1=16, neuron2=60; total time=  18.0s\n",
      "[CV 1/5; 25/56] START neuron1=20, neuron2=2.....................................\n",
      "[CV 1/5; 25/56] END ...................neuron1=20, neuron2=2; total time=  17.3s\n",
      "[CV 2/5; 25/56] START neuron1=20, neuron2=2.....................................\n",
      "[CV 2/5; 25/56] END ...................neuron1=20, neuron2=2; total time=  17.3s\n",
      "[CV 3/5; 25/56] START neuron1=20, neuron2=2.....................................\n",
      "[CV 3/5; 25/56] END ...................neuron1=20, neuron2=2; total time=  17.2s\n",
      "[CV 4/5; 25/56] START neuron1=20, neuron2=2.....................................\n",
      "[CV 4/5; 25/56] END ...................neuron1=20, neuron2=2; total time=  17.1s\n",
      "[CV 5/5; 25/56] START neuron1=20, neuron2=2.....................................\n",
      "[CV 5/5; 25/56] END ...................neuron1=20, neuron2=2; total time=  17.1s\n",
      "[CV 1/5; 26/56] START neuron1=20, neuron2=4.....................................\n",
      "[CV 1/5; 26/56] END ...................neuron1=20, neuron2=4; total time=  17.0s\n",
      "[CV 2/5; 26/56] START neuron1=20, neuron2=4.....................................\n",
      "[CV 2/5; 26/56] END ...................neuron1=20, neuron2=4; total time=  17.4s\n",
      "[CV 3/5; 26/56] START neuron1=20, neuron2=4.....................................\n",
      "[CV 3/5; 26/56] END ...................neuron1=20, neuron2=4; total time=  17.2s\n",
      "[CV 4/5; 26/56] START neuron1=20, neuron2=4.....................................\n",
      "[CV 4/5; 26/56] END ...................neuron1=20, neuron2=4; total time=  17.2s\n",
      "[CV 5/5; 26/56] START neuron1=20, neuron2=4.....................................\n",
      "[CV 5/5; 26/56] END ...................neuron1=20, neuron2=4; total time=  17.4s\n",
      "[CV 1/5; 27/56] START neuron1=20, neuron2=8.....................................\n",
      "[CV 1/5; 27/56] END ...................neuron1=20, neuron2=8; total time=  16.9s\n",
      "[CV 2/5; 27/56] START neuron1=20, neuron2=8.....................................\n",
      "[CV 2/5; 27/56] END ...................neuron1=20, neuron2=8; total time=  17.8s\n",
      "[CV 3/5; 27/56] START neuron1=20, neuron2=8.....................................\n",
      "[CV 3/5; 27/56] END ...................neuron1=20, neuron2=8; total time=  18.8s\n",
      "[CV 4/5; 27/56] START neuron1=20, neuron2=8.....................................\n",
      "[CV 4/5; 27/56] END ...................neuron1=20, neuron2=8; total time=  20.0s\n",
      "[CV 5/5; 27/56] START neuron1=20, neuron2=8.....................................\n",
      "[CV 5/5; 27/56] END ...................neuron1=20, neuron2=8; total time=  20.0s\n",
      "[CV 1/5; 28/56] START neuron1=20, neuron2=20....................................\n",
      "[CV 1/5; 28/56] END ..................neuron1=20, neuron2=20; total time=  20.7s\n",
      "[CV 2/5; 28/56] START neuron1=20, neuron2=20....................................\n",
      "[CV 2/5; 28/56] END ..................neuron1=20, neuron2=20; total time=  18.9s\n",
      "[CV 3/5; 28/56] START neuron1=20, neuron2=20....................................\n",
      "[CV 3/5; 28/56] END ..................neuron1=20, neuron2=20; total time=  19.4s\n",
      "[CV 4/5; 28/56] START neuron1=20, neuron2=20....................................\n",
      "[CV 4/5; 28/56] END ..................neuron1=20, neuron2=20; total time=  22.0s\n",
      "[CV 5/5; 28/56] START neuron1=20, neuron2=20....................................\n",
      "[CV 5/5; 28/56] END ..................neuron1=20, neuron2=20; total time=  18.8s\n",
      "[CV 1/5; 29/56] START neuron1=20, neuron2=30....................................\n",
      "[CV 1/5; 29/56] END ..................neuron1=20, neuron2=30; total time=  20.4s\n",
      "[CV 2/5; 29/56] START neuron1=20, neuron2=30....................................\n",
      "[CV 2/5; 29/56] END ..................neuron1=20, neuron2=30; total time=  24.3s\n",
      "[CV 3/5; 29/56] START neuron1=20, neuron2=30....................................\n",
      "[CV 3/5; 29/56] END ..................neuron1=20, neuron2=30; total time=  18.3s\n",
      "[CV 4/5; 29/56] START neuron1=20, neuron2=30....................................\n",
      "[CV 4/5; 29/56] END ..................neuron1=20, neuron2=30; total time=  17.5s\n",
      "[CV 5/5; 29/56] START neuron1=20, neuron2=30....................................\n",
      "[CV 5/5; 29/56] END ..................neuron1=20, neuron2=30; total time=  18.8s\n",
      "[CV 1/5; 30/56] START neuron1=20, neuron2=40....................................\n",
      "[CV 1/5; 30/56] END ..................neuron1=20, neuron2=40; total time=  17.6s\n",
      "[CV 2/5; 30/56] START neuron1=20, neuron2=40....................................\n",
      "[CV 2/5; 30/56] END ..................neuron1=20, neuron2=40; total time=  20.1s\n",
      "[CV 3/5; 30/56] START neuron1=20, neuron2=40....................................\n",
      "[CV 3/5; 30/56] END ..................neuron1=20, neuron2=40; total time=  20.8s\n",
      "[CV 4/5; 30/56] START neuron1=20, neuron2=40....................................\n",
      "[CV 4/5; 30/56] END ..................neuron1=20, neuron2=40; total time=  20.5s\n",
      "[CV 5/5; 30/56] START neuron1=20, neuron2=40....................................\n",
      "[CV 5/5; 30/56] END ..................neuron1=20, neuron2=40; total time=  18.2s\n",
      "[CV 1/5; 31/56] START neuron1=20, neuron2=50....................................\n",
      "[CV 1/5; 31/56] END ..................neuron1=20, neuron2=50; total time=  19.0s\n",
      "[CV 2/5; 31/56] START neuron1=20, neuron2=50....................................\n",
      "[CV 2/5; 31/56] END ..................neuron1=20, neuron2=50; total time=  17.6s\n",
      "[CV 3/5; 31/56] START neuron1=20, neuron2=50....................................\n",
      "[CV 3/5; 31/56] END ..................neuron1=20, neuron2=50; total time=  23.1s\n",
      "[CV 4/5; 31/56] START neuron1=20, neuron2=50....................................\n",
      "[CV 4/5; 31/56] END ..................neuron1=20, neuron2=50; total time=  20.7s\n",
      "[CV 5/5; 31/56] START neuron1=20, neuron2=50....................................\n",
      "[CV 5/5; 31/56] END ..................neuron1=20, neuron2=50; total time=  20.6s\n",
      "[CV 1/5; 32/56] START neuron1=20, neuron2=60....................................\n",
      "[CV 1/5; 32/56] END ..................neuron1=20, neuron2=60; total time=  23.1s\n",
      "[CV 2/5; 32/56] START neuron1=20, neuron2=60....................................\n",
      "[CV 2/5; 32/56] END ..................neuron1=20, neuron2=60; total time=  21.8s\n",
      "[CV 3/5; 32/56] START neuron1=20, neuron2=60....................................\n",
      "[CV 3/5; 32/56] END ..................neuron1=20, neuron2=60; total time=  21.7s\n",
      "[CV 4/5; 32/56] START neuron1=20, neuron2=60....................................\n",
      "[CV 4/5; 32/56] END ..................neuron1=20, neuron2=60; total time=  20.3s\n",
      "[CV 5/5; 32/56] START neuron1=20, neuron2=60....................................\n",
      "[CV 5/5; 32/56] END ..................neuron1=20, neuron2=60; total time=  21.3s\n",
      "[CV 1/5; 33/56] START neuron1=30, neuron2=2.....................................\n",
      "[CV 1/5; 33/56] END ...................neuron1=30, neuron2=2; total time=  22.2s\n",
      "[CV 2/5; 33/56] START neuron1=30, neuron2=2.....................................\n",
      "[CV 2/5; 33/56] END ...................neuron1=30, neuron2=2; total time=  19.5s\n",
      "[CV 3/5; 33/56] START neuron1=30, neuron2=2.....................................\n",
      "[CV 3/5; 33/56] END ...................neuron1=30, neuron2=2; total time=  19.4s\n",
      "[CV 4/5; 33/56] START neuron1=30, neuron2=2.....................................\n",
      "[CV 4/5; 33/56] END ...................neuron1=30, neuron2=2; total time=  18.6s\n",
      "[CV 5/5; 33/56] START neuron1=30, neuron2=2.....................................\n",
      "[CV 5/5; 33/56] END ...................neuron1=30, neuron2=2; total time=  22.8s\n",
      "[CV 1/5; 34/56] START neuron1=30, neuron2=4.....................................\n",
      "[CV 1/5; 34/56] END ...................neuron1=30, neuron2=4; total time=  19.8s\n",
      "[CV 2/5; 34/56] START neuron1=30, neuron2=4.....................................\n",
      "[CV 2/5; 34/56] END ...................neuron1=30, neuron2=4; total time=  18.3s\n",
      "[CV 3/5; 34/56] START neuron1=30, neuron2=4.....................................\n",
      "[CV 3/5; 34/56] END ...................neuron1=30, neuron2=4; total time=  19.2s\n",
      "[CV 4/5; 34/56] START neuron1=30, neuron2=4.....................................\n",
      "[CV 4/5; 34/56] END ...................neuron1=30, neuron2=4; total time=  18.7s\n",
      "[CV 5/5; 34/56] START neuron1=30, neuron2=4.....................................\n",
      "[CV 5/5; 34/56] END ...................neuron1=30, neuron2=4; total time=  18.8s\n",
      "[CV 1/5; 35/56] START neuron1=30, neuron2=8.....................................\n",
      "[CV 1/5; 35/56] END ...................neuron1=30, neuron2=8; total time=  20.7s\n",
      "[CV 2/5; 35/56] START neuron1=30, neuron2=8.....................................\n",
      "[CV 2/5; 35/56] END ...................neuron1=30, neuron2=8; total time=  19.6s\n",
      "[CV 3/5; 35/56] START neuron1=30, neuron2=8.....................................\n",
      "[CV 3/5; 35/56] END ...................neuron1=30, neuron2=8; total time=  20.0s\n",
      "[CV 4/5; 35/56] START neuron1=30, neuron2=8.....................................\n",
      "[CV 4/5; 35/56] END ...................neuron1=30, neuron2=8; total time=  19.6s\n",
      "[CV 5/5; 35/56] START neuron1=30, neuron2=8.....................................\n",
      "[CV 5/5; 35/56] END ...................neuron1=30, neuron2=8; total time=  19.2s\n",
      "[CV 1/5; 36/56] START neuron1=30, neuron2=20....................................\n",
      "[CV 1/5; 36/56] END ..................neuron1=30, neuron2=20; total time=  20.1s\n",
      "[CV 2/5; 36/56] START neuron1=30, neuron2=20....................................\n",
      "[CV 2/5; 36/56] END ..................neuron1=30, neuron2=20; total time=  21.8s\n",
      "[CV 3/5; 36/56] START neuron1=30, neuron2=20....................................\n",
      "[CV 3/5; 36/56] END ..................neuron1=30, neuron2=20; total time=  19.0s\n",
      "[CV 4/5; 36/56] START neuron1=30, neuron2=20....................................\n",
      "[CV 4/5; 36/56] END ..................neuron1=30, neuron2=20; total time=  20.7s\n",
      "[CV 5/5; 36/56] START neuron1=30, neuron2=20....................................\n",
      "[CV 5/5; 36/56] END ..................neuron1=30, neuron2=20; total time=  21.8s\n",
      "[CV 1/5; 37/56] START neuron1=30, neuron2=30....................................\n",
      "[CV 1/5; 37/56] END ..................neuron1=30, neuron2=30; total time=  20.5s\n",
      "[CV 2/5; 37/56] START neuron1=30, neuron2=30....................................\n",
      "[CV 2/5; 37/56] END ..................neuron1=30, neuron2=30; total time=  20.8s\n",
      "[CV 3/5; 37/56] START neuron1=30, neuron2=30....................................\n",
      "[CV 3/5; 37/56] END ..................neuron1=30, neuron2=30; total time=  18.8s\n",
      "[CV 4/5; 37/56] START neuron1=30, neuron2=30....................................\n",
      "[CV 4/5; 37/56] END ..................neuron1=30, neuron2=30; total time=  19.7s\n",
      "[CV 5/5; 37/56] START neuron1=30, neuron2=30....................................\n",
      "[CV 5/5; 37/56] END ..................neuron1=30, neuron2=30; total time=  17.8s\n",
      "[CV 1/5; 38/56] START neuron1=30, neuron2=40....................................\n",
      "[CV 1/5; 38/56] END ..................neuron1=30, neuron2=40; total time=  19.8s\n",
      "[CV 2/5; 38/56] START neuron1=30, neuron2=40....................................\n",
      "[CV 2/5; 38/56] END ..................neuron1=30, neuron2=40; total time=  17.4s\n",
      "[CV 3/5; 38/56] START neuron1=30, neuron2=40....................................\n",
      "[CV 3/5; 38/56] END ..................neuron1=30, neuron2=40; total time=  18.8s\n",
      "[CV 4/5; 38/56] START neuron1=30, neuron2=40....................................\n",
      "[CV 4/5; 38/56] END ..................neuron1=30, neuron2=40; total time=  20.0s\n",
      "[CV 5/5; 38/56] START neuron1=30, neuron2=40....................................\n",
      "[CV 5/5; 38/56] END ..................neuron1=30, neuron2=40; total time=  17.8s\n",
      "[CV 1/5; 39/56] START neuron1=30, neuron2=50....................................\n",
      "[CV 1/5; 39/56] END ..................neuron1=30, neuron2=50; total time=  18.4s\n",
      "[CV 2/5; 39/56] START neuron1=30, neuron2=50....................................\n",
      "[CV 2/5; 39/56] END ..................neuron1=30, neuron2=50; total time=  20.7s\n",
      "[CV 3/5; 39/56] START neuron1=30, neuron2=50....................................\n",
      "[CV 3/5; 39/56] END ..................neuron1=30, neuron2=50; total time=  22.3s\n",
      "[CV 4/5; 39/56] START neuron1=30, neuron2=50....................................\n",
      "[CV 4/5; 39/56] END ..................neuron1=30, neuron2=50; total time=  20.2s\n",
      "[CV 5/5; 39/56] START neuron1=30, neuron2=50....................................\n",
      "[CV 5/5; 39/56] END ..................neuron1=30, neuron2=50; total time=  20.2s\n",
      "[CV 1/5; 40/56] START neuron1=30, neuron2=60....................................\n",
      "[CV 1/5; 40/56] END ..................neuron1=30, neuron2=60; total time=  19.6s\n",
      "[CV 2/5; 40/56] START neuron1=30, neuron2=60....................................\n",
      "[CV 2/5; 40/56] END ..................neuron1=30, neuron2=60; total time=  17.4s\n",
      "[CV 3/5; 40/56] START neuron1=30, neuron2=60....................................\n",
      "[CV 3/5; 40/56] END ..................neuron1=30, neuron2=60; total time=  21.3s\n",
      "[CV 4/5; 40/56] START neuron1=30, neuron2=60....................................\n",
      "[CV 4/5; 40/56] END ..................neuron1=30, neuron2=60; total time=  22.3s\n",
      "[CV 5/5; 40/56] START neuron1=30, neuron2=60....................................\n",
      "[CV 5/5; 40/56] END ..................neuron1=30, neuron2=60; total time=  21.1s\n",
      "[CV 1/5; 41/56] START neuron1=40, neuron2=2.....................................\n",
      "[CV 1/5; 41/56] END ...................neuron1=40, neuron2=2; total time=  22.2s\n",
      "[CV 2/5; 41/56] START neuron1=40, neuron2=2.....................................\n",
      "[CV 2/5; 41/56] END ...................neuron1=40, neuron2=2; total time=  22.2s\n",
      "[CV 3/5; 41/56] START neuron1=40, neuron2=2.....................................\n",
      "[CV 3/5; 41/56] END ...................neuron1=40, neuron2=2; total time=  20.6s\n",
      "[CV 4/5; 41/56] START neuron1=40, neuron2=2.....................................\n",
      "[CV 4/5; 41/56] END ...................neuron1=40, neuron2=2; total time=  18.9s\n",
      "[CV 5/5; 41/56] START neuron1=40, neuron2=2.....................................\n",
      "[CV 5/5; 41/56] END ...................neuron1=40, neuron2=2; total time=  20.3s\n",
      "[CV 1/5; 42/56] START neuron1=40, neuron2=4.....................................\n",
      "[CV 1/5; 42/56] END ...................neuron1=40, neuron2=4; total time=  19.0s\n",
      "[CV 2/5; 42/56] START neuron1=40, neuron2=4.....................................\n",
      "[CV 2/5; 42/56] END ...................neuron1=40, neuron2=4; total time=  18.8s\n",
      "[CV 3/5; 42/56] START neuron1=40, neuron2=4.....................................\n",
      "[CV 3/5; 42/56] END ...................neuron1=40, neuron2=4; total time=  19.1s\n",
      "[CV 4/5; 42/56] START neuron1=40, neuron2=4.....................................\n",
      "[CV 4/5; 42/56] END ...................neuron1=40, neuron2=4; total time=  19.2s\n",
      "[CV 5/5; 42/56] START neuron1=40, neuron2=4.....................................\n",
      "[CV 5/5; 42/56] END ...................neuron1=40, neuron2=4; total time=  19.7s\n",
      "[CV 1/5; 43/56] START neuron1=40, neuron2=8.....................................\n",
      "[CV 1/5; 43/56] END ...................neuron1=40, neuron2=8; total time=  25.0s\n",
      "[CV 2/5; 43/56] START neuron1=40, neuron2=8.....................................\n",
      "[CV 2/5; 43/56] END ...................neuron1=40, neuron2=8; total time=  21.3s\n",
      "[CV 3/5; 43/56] START neuron1=40, neuron2=8.....................................\n",
      "[CV 3/5; 43/56] END ...................neuron1=40, neuron2=8; total time=  23.6s\n",
      "[CV 4/5; 43/56] START neuron1=40, neuron2=8.....................................\n",
      "[CV 4/5; 43/56] END ...................neuron1=40, neuron2=8; total time=  23.9s\n",
      "[CV 5/5; 43/56] START neuron1=40, neuron2=8.....................................\n",
      "[CV 5/5; 43/56] END ...................neuron1=40, neuron2=8; total time=  23.1s\n",
      "[CV 1/5; 44/56] START neuron1=40, neuron2=20....................................\n",
      "[CV 1/5; 44/56] END ..................neuron1=40, neuron2=20; total time=  22.2s\n",
      "[CV 2/5; 44/56] START neuron1=40, neuron2=20....................................\n",
      "[CV 2/5; 44/56] END ..................neuron1=40, neuron2=20; total time=  21.8s\n",
      "[CV 3/5; 44/56] START neuron1=40, neuron2=20....................................\n",
      "[CV 3/5; 44/56] END ..................neuron1=40, neuron2=20; total time=  19.2s\n",
      "[CV 4/5; 44/56] START neuron1=40, neuron2=20....................................\n",
      "[CV 4/5; 44/56] END ..................neuron1=40, neuron2=20; total time=  18.9s\n",
      "[CV 5/5; 44/56] START neuron1=40, neuron2=20....................................\n",
      "[CV 5/5; 44/56] END ..................neuron1=40, neuron2=20; total time=  22.0s\n",
      "[CV 1/5; 45/56] START neuron1=40, neuron2=30....................................\n",
      "[CV 1/5; 45/56] END ..................neuron1=40, neuron2=30; total time=  21.0s\n",
      "[CV 2/5; 45/56] START neuron1=40, neuron2=30....................................\n",
      "[CV 2/5; 45/56] END ..................neuron1=40, neuron2=30; total time=  21.3s\n",
      "[CV 3/5; 45/56] START neuron1=40, neuron2=30....................................\n",
      "[CV 3/5; 45/56] END ..................neuron1=40, neuron2=30; total time=  21.2s\n",
      "[CV 4/5; 45/56] START neuron1=40, neuron2=30....................................\n",
      "[CV 4/5; 45/56] END ..................neuron1=40, neuron2=30; total time=  19.9s\n",
      "[CV 5/5; 45/56] START neuron1=40, neuron2=30....................................\n",
      "[CV 5/5; 45/56] END ..................neuron1=40, neuron2=30; total time=  20.4s\n",
      "[CV 1/5; 46/56] START neuron1=40, neuron2=40....................................\n",
      "[CV 1/5; 46/56] END ..................neuron1=40, neuron2=40; total time=  18.3s\n",
      "[CV 2/5; 46/56] START neuron1=40, neuron2=40....................................\n",
      "[CV 2/5; 46/56] END ..................neuron1=40, neuron2=40; total time=  19.4s\n",
      "[CV 3/5; 46/56] START neuron1=40, neuron2=40....................................\n",
      "[CV 3/5; 46/56] END ..................neuron1=40, neuron2=40; total time=  20.0s\n",
      "[CV 4/5; 46/56] START neuron1=40, neuron2=40....................................\n",
      "[CV 4/5; 46/56] END ..................neuron1=40, neuron2=40; total time=  19.4s\n",
      "[CV 5/5; 46/56] START neuron1=40, neuron2=40....................................\n",
      "[CV 5/5; 46/56] END ..................neuron1=40, neuron2=40; total time=  19.2s\n",
      "[CV 1/5; 47/56] START neuron1=40, neuron2=50....................................\n",
      "[CV 1/5; 47/56] END ..................neuron1=40, neuron2=50; total time=  21.4s\n",
      "[CV 2/5; 47/56] START neuron1=40, neuron2=50....................................\n",
      "[CV 2/5; 47/56] END ..................neuron1=40, neuron2=50; total time=  19.6s\n",
      "[CV 3/5; 47/56] START neuron1=40, neuron2=50....................................\n",
      "[CV 3/5; 47/56] END ..................neuron1=40, neuron2=50; total time=  19.7s\n",
      "[CV 4/5; 47/56] START neuron1=40, neuron2=50....................................\n",
      "[CV 4/5; 47/56] END ..................neuron1=40, neuron2=50; total time=  18.7s\n",
      "[CV 5/5; 47/56] START neuron1=40, neuron2=50....................................\n",
      "[CV 5/5; 47/56] END ..................neuron1=40, neuron2=50; total time=  18.7s\n",
      "[CV 1/5; 48/56] START neuron1=40, neuron2=60....................................\n",
      "[CV 1/5; 48/56] END ..................neuron1=40, neuron2=60; total time=  19.2s\n",
      "[CV 2/5; 48/56] START neuron1=40, neuron2=60....................................\n",
      "[CV 2/5; 48/56] END ..................neuron1=40, neuron2=60; total time=  19.7s\n",
      "[CV 3/5; 48/56] START neuron1=40, neuron2=60....................................\n",
      "[CV 3/5; 48/56] END ..................neuron1=40, neuron2=60; total time=  19.2s\n",
      "[CV 4/5; 48/56] START neuron1=40, neuron2=60....................................\n",
      "[CV 4/5; 48/56] END ..................neuron1=40, neuron2=60; total time=  18.9s\n",
      "[CV 5/5; 48/56] START neuron1=40, neuron2=60....................................\n",
      "[CV 5/5; 48/56] END ..................neuron1=40, neuron2=60; total time=  17.8s\n",
      "[CV 1/5; 49/56] START neuron1=50, neuron2=2.....................................\n",
      "[CV 1/5; 49/56] END ...................neuron1=50, neuron2=2; total time=  19.2s\n",
      "[CV 2/5; 49/56] START neuron1=50, neuron2=2.....................................\n",
      "[CV 2/5; 49/56] END ...................neuron1=50, neuron2=2; total time=  20.4s\n",
      "[CV 3/5; 49/56] START neuron1=50, neuron2=2.....................................\n",
      "[CV 3/5; 49/56] END ...................neuron1=50, neuron2=2; total time=  20.7s\n",
      "[CV 4/5; 49/56] START neuron1=50, neuron2=2.....................................\n",
      "[CV 4/5; 49/56] END ...................neuron1=50, neuron2=2; total time=  20.3s\n",
      "[CV 5/5; 49/56] START neuron1=50, neuron2=2.....................................\n",
      "[CV 5/5; 49/56] END ...................neuron1=50, neuron2=2; total time=  20.9s\n",
      "[CV 1/5; 50/56] START neuron1=50, neuron2=4.....................................\n",
      "[CV 1/5; 50/56] END ...................neuron1=50, neuron2=4; total time=  20.1s\n",
      "[CV 2/5; 50/56] START neuron1=50, neuron2=4.....................................\n",
      "[CV 2/5; 50/56] END ...................neuron1=50, neuron2=4; total time=  20.8s\n",
      "[CV 3/5; 50/56] START neuron1=50, neuron2=4.....................................\n",
      "[CV 3/5; 50/56] END ...................neuron1=50, neuron2=4; total time=  20.6s\n",
      "[CV 4/5; 50/56] START neuron1=50, neuron2=4.....................................\n",
      "[CV 4/5; 50/56] END ...................neuron1=50, neuron2=4; total time=  20.4s\n",
      "[CV 5/5; 50/56] START neuron1=50, neuron2=4.....................................\n",
      "[CV 5/5; 50/56] END ...................neuron1=50, neuron2=4; total time=  22.0s\n",
      "[CV 1/5; 51/56] START neuron1=50, neuron2=8.....................................\n",
      "[CV 1/5; 51/56] END ...................neuron1=50, neuron2=8; total time=  23.8s\n",
      "[CV 2/5; 51/56] START neuron1=50, neuron2=8.....................................\n",
      "[CV 2/5; 51/56] END ...................neuron1=50, neuron2=8; total time=  26.6s\n",
      "[CV 3/5; 51/56] START neuron1=50, neuron2=8.....................................\n",
      "[CV 3/5; 51/56] END ...................neuron1=50, neuron2=8; total time=  22.0s\n",
      "[CV 4/5; 51/56] START neuron1=50, neuron2=8.....................................\n",
      "[CV 4/5; 51/56] END ...................neuron1=50, neuron2=8; total time=  21.0s\n",
      "[CV 5/5; 51/56] START neuron1=50, neuron2=8.....................................\n",
      "[CV 5/5; 51/56] END ...................neuron1=50, neuron2=8; total time=  19.5s\n",
      "[CV 1/5; 52/56] START neuron1=50, neuron2=20....................................\n",
      "[CV 1/5; 52/56] END ..................neuron1=50, neuron2=20; total time=  20.2s\n",
      "[CV 2/5; 52/56] START neuron1=50, neuron2=20....................................\n",
      "[CV 2/5; 52/56] END ..................neuron1=50, neuron2=20; total time=  24.9s\n",
      "[CV 3/5; 52/56] START neuron1=50, neuron2=20....................................\n",
      "[CV 3/5; 52/56] END ..................neuron1=50, neuron2=20; total time=  27.2s\n",
      "[CV 4/5; 52/56] START neuron1=50, neuron2=20....................................\n",
      "[CV 4/5; 52/56] END ..................neuron1=50, neuron2=20; total time=  24.9s\n",
      "[CV 5/5; 52/56] START neuron1=50, neuron2=20....................................\n",
      "[CV 5/5; 52/56] END ..................neuron1=50, neuron2=20; total time=  22.1s\n",
      "[CV 1/5; 53/56] START neuron1=50, neuron2=30....................................\n",
      "[CV 1/5; 53/56] END ..................neuron1=50, neuron2=30; total time=  21.6s\n",
      "[CV 2/5; 53/56] START neuron1=50, neuron2=30....................................\n",
      "[CV 2/5; 53/56] END ..................neuron1=50, neuron2=30; total time=  21.9s\n",
      "[CV 3/5; 53/56] START neuron1=50, neuron2=30....................................\n",
      "[CV 3/5; 53/56] END ..................neuron1=50, neuron2=30; total time=  24.1s\n",
      "[CV 4/5; 53/56] START neuron1=50, neuron2=30....................................\n",
      "[CV 4/5; 53/56] END ..................neuron1=50, neuron2=30; total time=  24.1s\n",
      "[CV 5/5; 53/56] START neuron1=50, neuron2=30....................................\n",
      "[CV 5/5; 53/56] END ..................neuron1=50, neuron2=30; total time=  22.6s\n",
      "[CV 1/5; 54/56] START neuron1=50, neuron2=40....................................\n",
      "[CV 1/5; 54/56] END ..................neuron1=50, neuron2=40; total time=  21.0s\n",
      "[CV 2/5; 54/56] START neuron1=50, neuron2=40....................................\n",
      "[CV 2/5; 54/56] END ..................neuron1=50, neuron2=40; total time=  20.8s\n",
      "[CV 3/5; 54/56] START neuron1=50, neuron2=40....................................\n",
      "[CV 3/5; 54/56] END ..................neuron1=50, neuron2=40; total time=  21.1s\n",
      "[CV 4/5; 54/56] START neuron1=50, neuron2=40....................................\n",
      "[CV 4/5; 54/56] END ..................neuron1=50, neuron2=40; total time=  18.5s\n",
      "[CV 5/5; 54/56] START neuron1=50, neuron2=40....................................\n",
      "[CV 5/5; 54/56] END ..................neuron1=50, neuron2=40; total time=  21.8s\n",
      "[CV 1/5; 55/56] START neuron1=50, neuron2=50....................................\n",
      "[CV 1/5; 55/56] END ..................neuron1=50, neuron2=50; total time=  20.5s\n",
      "[CV 2/5; 55/56] START neuron1=50, neuron2=50....................................\n",
      "[CV 2/5; 55/56] END ..................neuron1=50, neuron2=50; total time=  21.1s\n",
      "[CV 3/5; 55/56] START neuron1=50, neuron2=50....................................\n",
      "[CV 3/5; 55/56] END ..................neuron1=50, neuron2=50; total time=  20.8s\n",
      "[CV 4/5; 55/56] START neuron1=50, neuron2=50....................................\n",
      "[CV 4/5; 55/56] END ..................neuron1=50, neuron2=50; total time=  20.4s\n",
      "[CV 5/5; 55/56] START neuron1=50, neuron2=50....................................\n",
      "[CV 5/5; 55/56] END ..................neuron1=50, neuron2=50; total time=  19.4s\n",
      "[CV 1/5; 56/56] START neuron1=50, neuron2=60....................................\n",
      "[CV 1/5; 56/56] END ..................neuron1=50, neuron2=60; total time=  22.5s\n",
      "[CV 2/5; 56/56] START neuron1=50, neuron2=60....................................\n",
      "[CV 2/5; 56/56] END ..................neuron1=50, neuron2=60; total time=  19.6s\n",
      "[CV 3/5; 56/56] START neuron1=50, neuron2=60....................................\n",
      "[CV 3/5; 56/56] END ..................neuron1=50, neuron2=60; total time=  18.9s\n",
      "[CV 4/5; 56/56] START neuron1=50, neuron2=60....................................\n",
      "[CV 4/5; 56/56] END ..................neuron1=50, neuron2=60; total time=  18.2s\n",
      "[CV 5/5; 56/56] START neuron1=50, neuron2=60....................................\n",
      "[CV 5/5; 56/56] END ..................neuron1=50, neuron2=60; total time=  19.5s\n"
     ]
    }
   ],
   "source": [
    "# Create the model\n",
    "model = KerasClassifier(build_fn = create_model,verbose = 0,batch_size = 10,epochs = 10)\n",
    "# Define the grid search parameters\n",
    "neuron1 = [4,8,16,20,30,40,50]\n",
    "neuron2 = [2,4,8,20,30,40,50,60]\n",
    "# Make a dictionary of the grid search parameters\n",
    "param_grids = dict(neuron1 = neuron1,neuron2 = neuron2)\n",
    "# Build and fit the GridSearchCV\n",
    "grid = GridSearchCV(estimator = model,param_grid = param_grids,cv = KFold(),verbose = 10)\n",
    "grid_result = grid.fit(X,y)"
   ]
  },
  {
   "cell_type": "code",
   "execution_count": 78,
   "id": "ff007d24",
   "metadata": {},
   "outputs": [
    {
     "name": "stdout",
     "output_type": "stream",
     "text": [
      "Best : 0.0, using {'neuron1': 4, 'neuron2': 2}\n",
      "0.0,0.0 with: {'neuron1': 4, 'neuron2': 2}\n",
      "0.0,0.0 with: {'neuron1': 4, 'neuron2': 4}\n",
      "0.0,0.0 with: {'neuron1': 4, 'neuron2': 8}\n",
      "0.0,0.0 with: {'neuron1': 4, 'neuron2': 20}\n",
      "0.0,0.0 with: {'neuron1': 4, 'neuron2': 30}\n",
      "0.0,0.0 with: {'neuron1': 4, 'neuron2': 40}\n",
      "0.0,0.0 with: {'neuron1': 4, 'neuron2': 50}\n",
      "0.0,0.0 with: {'neuron1': 4, 'neuron2': 60}\n",
      "0.0,0.0 with: {'neuron1': 8, 'neuron2': 2}\n",
      "0.0,0.0 with: {'neuron1': 8, 'neuron2': 4}\n",
      "0.0,0.0 with: {'neuron1': 8, 'neuron2': 8}\n",
      "0.0,0.0 with: {'neuron1': 8, 'neuron2': 20}\n",
      "0.0,0.0 with: {'neuron1': 8, 'neuron2': 30}\n",
      "0.0,0.0 with: {'neuron1': 8, 'neuron2': 40}\n",
      "0.0,0.0 with: {'neuron1': 8, 'neuron2': 50}\n",
      "0.0,0.0 with: {'neuron1': 8, 'neuron2': 60}\n",
      "0.0,0.0 with: {'neuron1': 16, 'neuron2': 2}\n",
      "0.0,0.0 with: {'neuron1': 16, 'neuron2': 4}\n",
      "0.0,0.0 with: {'neuron1': 16, 'neuron2': 8}\n",
      "0.0,0.0 with: {'neuron1': 16, 'neuron2': 20}\n",
      "0.0,0.0 with: {'neuron1': 16, 'neuron2': 30}\n",
      "0.0,0.0 with: {'neuron1': 16, 'neuron2': 40}\n",
      "0.0,0.0 with: {'neuron1': 16, 'neuron2': 50}\n",
      "0.0,0.0 with: {'neuron1': 16, 'neuron2': 60}\n",
      "0.0,0.0 with: {'neuron1': 20, 'neuron2': 2}\n",
      "0.0,0.0 with: {'neuron1': 20, 'neuron2': 4}\n",
      "0.0,0.0 with: {'neuron1': 20, 'neuron2': 8}\n",
      "0.0,0.0 with: {'neuron1': 20, 'neuron2': 20}\n",
      "0.0,0.0 with: {'neuron1': 20, 'neuron2': 30}\n",
      "0.0,0.0 with: {'neuron1': 20, 'neuron2': 40}\n",
      "0.0,0.0 with: {'neuron1': 20, 'neuron2': 50}\n",
      "0.0,0.0 with: {'neuron1': 20, 'neuron2': 60}\n",
      "0.0,0.0 with: {'neuron1': 30, 'neuron2': 2}\n",
      "0.0,0.0 with: {'neuron1': 30, 'neuron2': 4}\n",
      "0.0,0.0 with: {'neuron1': 30, 'neuron2': 8}\n",
      "0.0,0.0 with: {'neuron1': 30, 'neuron2': 20}\n",
      "0.0,0.0 with: {'neuron1': 30, 'neuron2': 30}\n",
      "0.0,0.0 with: {'neuron1': 30, 'neuron2': 40}\n",
      "0.0,0.0 with: {'neuron1': 30, 'neuron2': 50}\n",
      "0.0,0.0 with: {'neuron1': 30, 'neuron2': 60}\n",
      "0.0,0.0 with: {'neuron1': 40, 'neuron2': 2}\n",
      "0.0,0.0 with: {'neuron1': 40, 'neuron2': 4}\n",
      "0.0,0.0 with: {'neuron1': 40, 'neuron2': 8}\n",
      "0.0,0.0 with: {'neuron1': 40, 'neuron2': 20}\n",
      "0.0,0.0 with: {'neuron1': 40, 'neuron2': 30}\n",
      "0.0,0.0 with: {'neuron1': 40, 'neuron2': 40}\n",
      "0.0,0.0 with: {'neuron1': 40, 'neuron2': 50}\n",
      "0.0,0.0 with: {'neuron1': 40, 'neuron2': 60}\n",
      "0.0,0.0 with: {'neuron1': 50, 'neuron2': 2}\n",
      "0.0,0.0 with: {'neuron1': 50, 'neuron2': 4}\n",
      "0.0,0.0 with: {'neuron1': 50, 'neuron2': 8}\n",
      "0.0,0.0 with: {'neuron1': 50, 'neuron2': 20}\n",
      "0.0,0.0 with: {'neuron1': 50, 'neuron2': 30}\n",
      "0.0,0.0 with: {'neuron1': 50, 'neuron2': 40}\n",
      "0.0,0.0 with: {'neuron1': 50, 'neuron2': 50}\n",
      "0.0,0.0 with: {'neuron1': 50, 'neuron2': 60}\n"
     ]
    }
   ],
   "source": [
    "#Summarize the results\n",
    "print('Best : {}, using {}'.format(grid_result.best_score_,grid_result.best_params_))\n",
    "means = grid_result.cv_results_['mean_test_score']\n",
    "stds = grid_result.cv_results_['std_test_score']\n",
    "params = grid_result.cv_results_['params']\n",
    "for mean, stdev, param in zip(means, stds, params):\n",
    "  print('{},{} with: {}'.format(mean, stdev, param))"
   ]
  },
  {
   "cell_type": "code",
   "execution_count": null,
   "id": "b609c2d9",
   "metadata": {},
   "outputs": [],
   "source": [
    "#we get best learning rate as 0.001 and dropout rate as 0 and best neurons as 4 and 2, so now we can build final model"
   ]
  },
  {
   "cell_type": "code",
   "execution_count": 79,
   "id": "d80de6cb",
   "metadata": {},
   "outputs": [],
   "source": [
    "from sklearn.model_selection import train_test_split"
   ]
  },
  {
   "cell_type": "code",
   "execution_count": 80,
   "id": "116ec1d2",
   "metadata": {},
   "outputs": [],
   "source": [
    "X_train,X_test,y_train,y_test =train_test_split(X,y,test_size =0.3,random_state =42)"
   ]
  },
  {
   "cell_type": "code",
   "execution_count": 81,
   "id": "c7e6a44a",
   "metadata": {},
   "outputs": [
    {
     "data": {
      "text/plain": [
       "((10527, 5), (4512, 5), (10527,), (4512,))"
      ]
     },
     "execution_count": 81,
     "metadata": {},
     "output_type": "execute_result"
    }
   ],
   "source": [
    "X_train.shape,X_test.shape,y_train.shape,y_test.shape"
   ]
  },
  {
   "cell_type": "code",
   "execution_count": 83,
   "id": "36717025",
   "metadata": {},
   "outputs": [],
   "source": [
    "import keras\n",
    "optmizer =RMSprop(0.001)\n",
    "model_new=keras.Sequential([\n",
    "    keras.layers.Dense(4,input_dim =(n_features),activation='relu'),\n",
    "    keras.layers.Dense(2,activation ='relu')\n",
    "])\n",
    "model_new.compile(optimizer =optmizer,loss= 'mean_squared_error',metrics=['accuracy'])"
   ]
  },
  {
   "cell_type": "code",
   "execution_count": 85,
   "id": "4bfc89b2",
   "metadata": {},
   "outputs": [
    {
     "name": "stdout",
     "output_type": "stream",
     "text": [
      "Epoch 1/10\n",
      "1053/1053 [==============================] - 3s 3ms/step - loss: 0.7579 - accuracy: 0.0000e+00: 0s - loss: 0.7640 -  - ETA: 0s - loss: 0.7572 - accura\n",
      "Epoch 2/10\n",
      "1053/1053 [==============================] - 2s 2ms/step - loss: 0.7375 - accuracy: 0.0000e+00\n",
      "Epoch 3/10\n",
      "1053/1053 [==============================] - 2s 2ms/step - loss: 0.7373 - accuracy: 0.0000e+00\n",
      "Epoch 4/10\n",
      "1053/1053 [==============================] - 2s 2ms/step - loss: 0.7373 - accuracy: 0.0000e+00\n",
      "Epoch 5/10\n",
      "1053/1053 [==============================] - 2s 2ms/step - loss: 0.7372 - accuracy: 0.0000e+00\n",
      "Epoch 6/10\n",
      "1053/1053 [==============================] - 2s 2ms/step - loss: 0.7372 - accuracy: 0.0000e+00\n",
      "Epoch 7/10\n",
      "1053/1053 [==============================] - 2s 2ms/step - loss: 0.7372 - accuracy: 0.0000e+00\n",
      "Epoch 8/10\n",
      "1053/1053 [==============================] - 2s 2ms/step - loss: 0.7371 - accuracy: 0.0000e+00\n",
      "Epoch 9/10\n",
      "1053/1053 [==============================] - 2s 2ms/step - loss: 0.7371 - accuracy: 0.0000e+00: 0s - loss: 0.7345 - accu\n",
      "Epoch 10/10\n",
      "1053/1053 [==============================] - 2s 2ms/step - loss: 0.7370 - accuracy: 0.0000e+00: 1s - loss: 0.7279  - ETA: 0s - loss: 0.743\n"
     ]
    },
    {
     "data": {
      "text/plain": [
       "<keras.callbacks.History at 0x7ff3d7f3dd30>"
      ]
     },
     "execution_count": 85,
     "metadata": {},
     "output_type": "execute_result"
    }
   ],
   "source": [
    "import tensorflow\n",
    "seed_value =42;\n",
    "import random\n",
    "tensorflow.random.set_seed(seed_value)\n",
    "model_new.fit(X_train, y_train, epochs=10, batch_size=10, verbose = 1)"
   ]
  },
  {
   "cell_type": "code",
   "execution_count": 86,
   "id": "7763b9f9",
   "metadata": {},
   "outputs": [
    {
     "name": "stdout",
     "output_type": "stream",
     "text": [
      "141/141 [==============================] - 0s 2ms/step - loss: 0.7518 - accuracy: 0.0000e+00\n"
     ]
    },
    {
     "data": {
      "text/plain": [
       "[0.7518478035926819, 0.0]"
      ]
     },
     "execution_count": 86,
     "metadata": {},
     "output_type": "execute_result"
    }
   ],
   "source": [
    "model_new.evaluate(X_test,y_test)"
   ]
  }
 ],
 "metadata": {
  "kernelspec": {
   "display_name": "Python 3",
   "language": "python",
   "name": "python3"
  },
  "language_info": {
   "codemirror_mode": {
    "name": "ipython",
    "version": 3
   },
   "file_extension": ".py",
   "mimetype": "text/x-python",
   "name": "python",
   "nbconvert_exporter": "python",
   "pygments_lexer": "ipython3",
   "version": "3.8.8"
  }
 },
 "nbformat": 4,
 "nbformat_minor": 5
}
